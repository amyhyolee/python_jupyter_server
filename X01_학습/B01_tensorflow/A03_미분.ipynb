{
 "cells": [
  {
   "cell_type": "markdown",
   "id": "41d89369-7b87-4d0a-85d6-b4b8d13f1442",
   "metadata": {},
   "source": [
    "미분: 접선의 기울기"
   ]
  },
  {
   "cell_type": "code",
   "execution_count": 3,
   "id": "45325113-bf2b-4f81-9196-3d02fee7f5eb",
   "metadata": {},
   "outputs": [],
   "source": [
    "import tensorflow as tf\n",
    "import numpy as np\n",
    "import matplotlib.pyplot as plt"
   ]
  },
  {
   "cell_type": "code",
   "execution_count": 2,
   "id": "0cd7bdbb-b5dc-45d4-a024-161ea31f7578",
   "metadata": {},
   "outputs": [],
   "source": [
    "def cost(x, y, w):\n",
    "    n = len(x) # 3\n",
    "    hx = w * x\n",
    "    c = np.sum( (hx-y)**2 ) / n\n",
    "    return c"
   ]
  },
  {
   "cell_type": "code",
   "execution_count": 4,
   "id": "0e6e90c9-469b-4cb7-9ce5-1ac7435b5ebd",
   "metadata": {},
   "outputs": [],
   "source": [
    "def gradient(x, y, w): # 미분: 기울기\n",
    "    n = len(x) # 3\n",
    "    g = np.sum( (w * x - y) * 2 * x) / n\n",
    "    return g"
   ]
  },
  {
   "cell_type": "code",
   "execution_count": 6,
   "id": "13265690-edd6-40b5-afe9-c42d8a425702",
   "metadata": {},
   "outputs": [
    {
     "name": "stdout",
     "output_type": "stream",
     "text": [
      "최종 w:  1.0\n"
     ]
    }
   ],
   "source": [
    "w = 5\n",
    "epochs = 500 # 반복\n",
    "learning_rate = 0.1 # 임의의 기울기\n",
    "x = np.array([1,2,3])\n",
    "y = np.array([1,2,3])\n",
    "\n",
    "for i in range(epochs):\n",
    "    c = cost(x, y, w)\n",
    "    w = w - learning_rate * gradient(x, y, w)\n",
    "print('최종 w: ',w)"
   ]
  },
  {
   "cell_type": "markdown",
   "id": "8f31fb56-2c71-4f75-8985-5bfb214c3723",
   "metadata": {},
   "source": [
    "#### w b 구현"
   ]
  },
  {
   "cell_type": "code",
   "execution_count": 12,
   "id": "8f9cc1eb-98c6-4f8d-9ce3-b5458a2b51b3",
   "metadata": {},
   "outputs": [
    {
     "data": {
      "text/plain": [
       "<matplotlib.collections.PathCollection at 0x1e66556c580>"
      ]
     },
     "execution_count": 12,
     "metadata": {},
     "output_type": "execute_result"
    },
    {
     "data": {
      "image/png": "[encoded data removed]",
      "text/plain": [
       "<Figure size 432x288 with 1 Axes>"
      ]
     },
     "metadata": {
      "needs_background": "light"
     },
     "output_type": "display_data"
    }
   ],
   "source": [
    "x = np.array([1,2,3,4, 5])\n",
    "y = np.array([3,5,7,9,11])\n",
    "plt.scatter(x,y) # 산점도 그리기"
   ]
  }
 ],
 "metadata": {
  "kernelspec": {
   "display_name": "Python 3 (ipykernel)",
   "language": "python",
   "name": "python3"
  },
  "language_info": {
   "codemirror_mode": {
    "name": "ipython",
    "version": 3
   },
   "file_extension": ".py",
   "mimetype": "text/x-python",
   "name": "python",
   "nbconvert_exporter": "python",
   "pygments_lexer": "ipython3",
   "version": "3.9.10"
  }
 },
 "nbformat": 4,
 "nbformat_minor": 5
}
