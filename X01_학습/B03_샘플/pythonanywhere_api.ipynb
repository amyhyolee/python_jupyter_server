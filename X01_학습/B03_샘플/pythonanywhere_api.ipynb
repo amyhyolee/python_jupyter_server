{
 "cells": [
  {
   "cell_type": "code",
   "execution_count": 1,
   "id": "62348f1b-d5ff-4696-bf04-d3704a62af97",
   "metadata": {},
   "outputs": [
    {
     "name": "stdout",
     "output_type": "stream",
     "text": [
      "CPU quota info:\n",
      "b'{\"daily_cpu_limit_seconds\":100,\"daily_cpu_total_usage_seconds\":2.303442039,\"next_reset_time\":\"2022-02-06T01:55:00\"}'\n"
     ]
    }
   ],
   "source": [
    "import requests\n",
    "username = 'kimshinil'\n",
    "token = '4ef7347ddc102e7926be263c599ee06c0aec7b1a'\n",
    "\n",
    "response = requests.get(\n",
    "    'https://www.pythonanywhere.com/api/v0/user/{username}/cpu/'.format(\n",
    "        username=username\n",
    "    ),\n",
    "    headers={'Authorization': 'Token {token}'.format(token=token)}\n",
    ")\n",
    "if response.status_code == 200:\n",
    "    print('CPU quota info:')\n",
    "    print(response.content)\n",
    "else:\n",
    "    print('Got unexpected status code {}: {!r}'.format(response.status_code, response.content))"
   ]
  }
 ],
 "metadata": {
  "kernelspec": {
   "display_name": "Python 3 (ipykernel)",
   "language": "python",
   "name": "python3"
  },
  "language_info": {
   "codemirror_mode": {
    "name": "ipython",
    "version": 3
   },
   "file_extension": ".py",
   "mimetype": "text/x-python",
   "name": "python",
   "nbconvert_exporter": "python",
   "pygments_lexer": "ipython3",
   "version": "3.9.10"
  }
 },
 "nbformat": 4,
 "nbformat_minor": 5
}
