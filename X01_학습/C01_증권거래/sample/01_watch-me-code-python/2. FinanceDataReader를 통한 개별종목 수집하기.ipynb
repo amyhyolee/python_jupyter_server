{
 "cells": [
  {
   "cell_type": "markdown",
   "metadata": {
    "id": "nzScVzet9UkI"
   },
   "source": [
    "* [FinanceDataReader 사용자 안내서 | FinanceData](https://financedata.github.io/posts/finance-data-reader-users-guide.html)"
   ]
  },
  {
   "cell_type": "code",
   "execution_count": 1,
   "metadata": {
    "colab": {
     "base_uri": "https://localhost:8080/"
    },
    "executionInfo": {
     "elapsed": 4723,
     "status": "ok",
     "timestamp": 1615877471285,
     "user": {
      "displayName": "todaycode오늘코드",
      "photoUrl": "https://lh3.googleusercontent.com/a-/AOh14GgLiO5i_xXRR_qAG77avSrsWiiI4KHJR6t4xysb=s64",
      "userId": "06313463015165663090"
     },
     "user_tz": -540
    },
    "id": "2fTe3TUb9UkJ",
    "outputId": "8a11da41-fe3d-4466-911b-e4f64396726d"
   },
   "outputs": [
    {
     "name": "stdout",
     "output_type": "stream",
     "text": [
      "Collecting finance-datareader\n",
      "  Downloading https://files.pythonhosted.org/packages/83/5e/54306e72b5ff5d5ec6cc9f32cdf19602237f9bb70d64efcd527338388be3/finance_datareader-0.9.31-py3-none-any.whl\n",
      "Requirement already satisfied, skipping upgrade: requests>=2.3.0 in /usr/local/lib/python3.7/dist-packages (from finance-datareader) (2.23.0)\n",
      "Requirement already satisfied, skipping upgrade: lxml in /usr/local/lib/python3.7/dist-packages (from finance-datareader) (4.2.6)\n",
      "Requirement already satisfied, skipping upgrade: pandas>=0.19.2 in /usr/local/lib/python3.7/dist-packages (from finance-datareader) (1.1.5)\n",
      "Collecting requests-file\n",
      "  Downloading https://files.pythonhosted.org/packages/77/86/cdb5e8eaed90796aa83a6d9f75cfbd37af553c47a291cd47bc410ef9bdb2/requests_file-1.5.1-py2.py3-none-any.whl\n",
      "Requirement already satisfied, skipping upgrade: tqdm in /usr/local/lib/python3.7/dist-packages (from finance-datareader) (4.41.1)\n",
      "Requirement already satisfied, skipping upgrade: idna<3,>=2.5 in /usr/local/lib/python3.7/dist-packages (from requests>=2.3.0->finance-datareader) (2.10)\n",
      "Requirement already satisfied, skipping upgrade: urllib3!=1.25.0,!=1.25.1,<1.26,>=1.21.1 in /usr/local/lib/python3.7/dist-packages (from requests>=2.3.0->finance-datareader) (1.24.3)\n",
      "Requirement already satisfied, skipping upgrade: chardet<4,>=3.0.2 in /usr/local/lib/python3.7/dist-packages (from requests>=2.3.0->finance-datareader) (3.0.4)\n",
      "Requirement already satisfied, skipping upgrade: certifi>=2017.4.17 in /usr/local/lib/python3.7/dist-packages (from requests>=2.3.0->finance-datareader) (2020.12.5)\n",
      "Requirement already satisfied, skipping upgrade: pytz>=2017.2 in /usr/local/lib/python3.7/dist-packages (from pandas>=0.19.2->finance-datareader) (2018.9)\n",
      "Requirement already satisfied, skipping upgrade: python-dateutil>=2.7.3 in /usr/local/lib/python3.7/dist-packages (from pandas>=0.19.2->finance-datareader) (2.8.1)\n",
      "Requirement already satisfied, skipping upgrade: numpy>=1.15.4 in /usr/local/lib/python3.7/dist-packages (from pandas>=0.19.2->finance-datareader) (1.19.5)\n",
      "Requirement already satisfied, skipping upgrade: six in /usr/local/lib/python3.7/dist-packages (from requests-file->finance-datareader) (1.15.0)\n",
      "Installing collected packages: requests-file, finance-datareader\n",
      "Successfully installed finance-datareader-0.9.31 requests-file-1.5.1\n"
     ]
    }
   ],
   "source": [
    "!pip install -U finance-datareader"
   ]
  },
  {
   "cell_type": "markdown",
   "metadata": {
    "id": "2P_gBvW_9UkN"
   },
   "source": [
    "## 라이브러리 불러오기"
   ]
  },
  {
   "cell_type": "code",
   "execution_count": 2,
   "metadata": {
    "colab": {
     "base_uri": "https://localhost:8080/",
     "height": 35
    },
    "executionInfo": {
     "elapsed": 1801,
     "status": "ok",
     "timestamp": 1615877471294,
     "user": {
      "displayName": "todaycode오늘코드",
      "photoUrl": "https://lh3.googleusercontent.com/a-/AOh14GgLiO5i_xXRR_qAG77avSrsWiiI4KHJR6t4xysb=s64",
      "userId": "06313463015165663090"
     },
     "user_tz": -540
    },
    "id": "D7TUpXgL9UkO",
    "outputId": "f2041309-5f95-47f9-b303-c456940bb848"
   },
   "outputs": [
    {
     "data": {
      "application/vnd.google.colaboratory.intrinsic+json": {
       "type": "string"
      },
      "text/plain": [
       "'0.9.31'"
      ]
     },
     "execution_count": 2,
     "metadata": {
      "tags": []
     },
     "output_type": "execute_result"
    }
   ],
   "source": [
    "import FinanceDataReader as fdr\n",
    "fdr.__version__"
   ]
  },
  {
   "cell_type": "code",
   "execution_count": 3,
   "metadata": {
    "executionInfo": {
     "elapsed": 821,
     "status": "ok",
     "timestamp": 1615877471296,
     "user": {
      "displayName": "todaycode오늘코드",
      "photoUrl": "https://lh3.googleusercontent.com/a-/AOh14GgLiO5i_xXRR_qAG77avSrsWiiI4KHJR6t4xysb=s64",
      "userId": "06313463015165663090"
     },
     "user_tz": -540
    },
    "id": "BXz4Bh9D9UkQ"
   },
   "outputs": [],
   "source": [
    "# 데이터 분석을 위해 pandas 불러오기\n",
    "import pandas as pd"
   ]
  },
  {
   "cell_type": "code",
   "execution_count": 5,
   "metadata": {
    "executionInfo": {
     "elapsed": 587,
     "status": "ok",
     "timestamp": 1615877482840,
     "user": {
      "displayName": "todaycode오늘코드",
      "photoUrl": "https://lh3.googleusercontent.com/a-/AOh14GgLiO5i_xXRR_qAG77avSrsWiiI4KHJR6t4xysb=s64",
      "userId": "06313463015165663090"
     },
     "user_tz": -540
    },
    "id": "_-YYK1xV9UkW"
   },
   "outputs": [],
   "source": [
    "# df_krx = pd.read_csv(\"krx.csv\")\n",
    "# df_krx.shape"
   ]
  },
  {
   "cell_type": "code",
   "execution_count": 6,
   "metadata": {
    "executionInfo": {
     "elapsed": 14960,
     "status": "ok",
     "timestamp": 1615877499994,
     "user": {
      "displayName": "todaycode오늘코드",
      "photoUrl": "https://lh3.googleusercontent.com/a-/AOh14GgLiO5i_xXRR_qAG77avSrsWiiI4KHJR6t4xysb=s64",
      "userId": "06313463015165663090"
     },
     "user_tz": -540
    },
    "id": "D3iXY8aV9UkZ"
   },
   "outputs": [],
   "source": [
    "# 위 CSV 파일이 로드되지 않아 당황스러우신가요? 그럼 아래 주석을 풀고 다시 KRX 데이터를 받아오세요.\n",
    "df_krx = fdr.StockListing('KRX')"
   ]
  },
  {
   "cell_type": "code",
   "execution_count": 7,
   "metadata": {
    "colab": {
     "base_uri": "https://localhost:8080/",
     "height": 294
    },
    "executionInfo": {
     "elapsed": 2347,
     "status": "ok",
     "timestamp": 1615877516308,
     "user": {
      "displayName": "todaycode오늘코드",
      "photoUrl": "https://lh3.googleusercontent.com/a-/AOh14GgLiO5i_xXRR_qAG77avSrsWiiI4KHJR6t4xysb=s64",
      "userId": "06313463015165663090"
     },
     "user_tz": -540
    },
    "id": "BY3TJu8W9Ukb",
    "outputId": "2d7ca23b-583c-460e-e12d-35cfa6beb162"
   },
   "outputs": [
    {
     "data": {
      "text/plain": [
       "<matplotlib.axes._subplots.AxesSubplot at 0x7f100463f690>"
      ]
     },
     "execution_count": 7,
     "metadata": {
      "tags": []
     },
     "output_type": "execute_result"
    },
    {
     "data": {
      "image/png": "[encoded data removed]",
      "text/plain": [
       "<Figure size 432x288 with 1 Axes>"
      ]
     },
     "metadata": {
      "needs_background": "light",
      "tags": []
     },
     "output_type": "display_data"
    }
   ],
   "source": [
    "import FinanceDataReader as fdr\n",
    "\n",
    "# 셀트리온, 2017년~현재\n",
    "\n",
    "df = fdr.DataReader('068270', '2017')\n",
    "df['Close'].plot()"
   ]
  },
  {
   "cell_type": "code",
   "execution_count": 8,
   "metadata": {
    "colab": {
     "base_uri": "https://localhost:8080/",
     "height": 272
    },
    "executionInfo": {
     "elapsed": 596,
     "status": "ok",
     "timestamp": 1615877522191,
     "user": {
      "displayName": "todaycode오늘코드",
      "photoUrl": "https://lh3.googleusercontent.com/a-/AOh14GgLiO5i_xXRR_qAG77avSrsWiiI4KHJR6t4xysb=s64",
      "userId": "06313463015165663090"
     },
     "user_tz": -540
    },
    "id": "LW4wYKgo9Ukd",
    "outputId": "a8a25932-da29-457a-b056-70f399e8eb76"
   },
   "outputs": [
    {
     "data": {
      "text/html": [
       "<div>\n",
       "<style scoped>\n",
       "    .dataframe tbody tr th:only-of-type {\n",
       "        vertical-align: middle;\n",
       "    }\n",
       "\n",
       "    .dataframe tbody tr th {\n",
       "        vertical-align: top;\n",
       "    }\n",
       "\n",
       "    .dataframe thead th {\n",
       "        text-align: right;\n",
       "    }\n",
       "</style>\n",
       "<table border=\"1\" class=\"dataframe\">\n",
       "  <thead>\n",
       "    <tr style=\"text-align: right;\">\n",
       "      <th></th>\n",
       "      <th>Symbol</th>\n",
       "      <th>Market</th>\n",
       "      <th>Name</th>\n",
       "      <th>Sector</th>\n",
       "      <th>Industry</th>\n",
       "      <th>ListingDate</th>\n",
       "      <th>SettleMonth</th>\n",
       "      <th>Representative</th>\n",
       "      <th>HomePage</th>\n",
       "      <th>Region</th>\n",
       "    </tr>\n",
       "  </thead>\n",
       "  <tbody>\n",
       "    <tr>\n",
       "      <th>0</th>\n",
       "      <td>060310</td>\n",
       "      <td>KOSDAQ</td>\n",
       "      <td>3S</td>\n",
       "      <td>특수 목적용 기계 제조업</td>\n",
       "      <td>반도체 웨이퍼 캐리어</td>\n",
       "      <td>2002-04-23</td>\n",
       "      <td>03월</td>\n",
       "      <td>박종익, 김세완 (각자 대표이사)</td>\n",
       "      <td>http://www.3sref.com</td>\n",
       "      <td>서울특별시</td>\n",
       "    </tr>\n",
       "    <tr>\n",
       "      <th>1</th>\n",
       "      <td>095570</td>\n",
       "      <td>KOSPI</td>\n",
       "      <td>AJ네트웍스</td>\n",
       "      <td>산업용 기계 및 장비 임대업</td>\n",
       "      <td>렌탈(파렛트, OA장비, 건설장비)</td>\n",
       "      <td>2015-08-21</td>\n",
       "      <td>12월</td>\n",
       "      <td>이현우</td>\n",
       "      <td>http://www.ajnet.co.kr</td>\n",
       "      <td>서울특별시</td>\n",
       "    </tr>\n",
       "    <tr>\n",
       "      <th>2</th>\n",
       "      <td>006840</td>\n",
       "      <td>KOSPI</td>\n",
       "      <td>AK홀딩스</td>\n",
       "      <td>기타 금융업</td>\n",
       "      <td>지주사업</td>\n",
       "      <td>1999-08-11</td>\n",
       "      <td>12월</td>\n",
       "      <td>채형석, 이석주(각자 대표이사)</td>\n",
       "      <td>http://www.aekyunggroup.co.kr</td>\n",
       "      <td>서울특별시</td>\n",
       "    </tr>\n",
       "    <tr>\n",
       "      <th>3</th>\n",
       "      <td>054620</td>\n",
       "      <td>KOSDAQ</td>\n",
       "      <td>APS홀딩스</td>\n",
       "      <td>기타 금융업</td>\n",
       "      <td>인터넷 트래픽 솔루션</td>\n",
       "      <td>2001-12-04</td>\n",
       "      <td>12월</td>\n",
       "      <td>정기로</td>\n",
       "      <td>http://www.apsholdings.co.kr</td>\n",
       "      <td>경기도</td>\n",
       "    </tr>\n",
       "    <tr>\n",
       "      <th>4</th>\n",
       "      <td>265520</td>\n",
       "      <td>KOSDAQ</td>\n",
       "      <td>AP시스템</td>\n",
       "      <td>특수 목적용 기계 제조업</td>\n",
       "      <td>디스플레이 제조 장비</td>\n",
       "      <td>2017-04-07</td>\n",
       "      <td>12월</td>\n",
       "      <td>김영주</td>\n",
       "      <td>http://www.apsystems.co.kr</td>\n",
       "      <td>경기도</td>\n",
       "    </tr>\n",
       "  </tbody>\n",
       "</table>\n",
       "</div>"
      ],
      "text/plain": [
       "   Symbol  Market  ...                       HomePage Region\n",
       "0  060310  KOSDAQ  ...           http://www.3sref.com  서울특별시\n",
       "1  095570   KOSPI  ...         http://www.ajnet.co.kr  서울특별시\n",
       "2  006840   KOSPI  ...  http://www.aekyunggroup.co.kr  서울특별시\n",
       "3  054620  KOSDAQ  ...   http://www.apsholdings.co.kr    경기도\n",
       "4  265520  KOSDAQ  ...     http://www.apsystems.co.kr    경기도\n",
       "\n",
       "[5 rows x 10 columns]"
      ]
     },
     "execution_count": 8,
     "metadata": {
      "tags": []
     },
     "output_type": "execute_result"
    }
   ],
   "source": [
    "df_krx.head()"
   ]
  },
  {
   "cell_type": "code",
   "execution_count": 9,
   "metadata": {
    "colab": {
     "base_uri": "https://localhost:8080/",
     "height": 35
    },
    "executionInfo": {
     "elapsed": 558,
     "status": "ok",
     "timestamp": 1615877526568,
     "user": {
      "displayName": "todaycode오늘코드",
      "photoUrl": "https://lh3.googleusercontent.com/a-/AOh14GgLiO5i_xXRR_qAG77avSrsWiiI4KHJR6t4xysb=s64",
      "userId": "06313463015165663090"
     },
     "user_tz": -540
    },
    "id": "hOCxkcTM9Ukg",
    "outputId": "c03082ac-6d93-4257-80cb-f4701e5da821"
   },
   "outputs": [
    {
     "data": {
      "application/vnd.google.colaboratory.intrinsic+json": {
       "type": "string"
      },
      "text/plain": [
       "'352820'"
      ]
     },
     "execution_count": 9,
     "metadata": {
      "tags": []
     },
     "output_type": "execute_result"
    }
   ],
   "source": [
    "df_krx.loc[df_krx[\"Name\"] == \"빅히트\", \"Symbol\"].tolist()[0]"
   ]
  },
  {
   "cell_type": "code",
   "execution_count": null,
   "metadata": {
    "id": "kyyc0aJs-g_O"
   },
   "outputs": [],
   "source": [
    "fdr.DataReader(\"352820\")"
   ]
  },
  {
   "cell_type": "code",
   "execution_count": null,
   "metadata": {
    "colab": {
     "base_uri": "https://localhost:8080/",
     "height": 51
    },
    "executionInfo": {
     "elapsed": 581,
     "status": "ok",
     "timestamp": 1603800925781,
     "user": {
      "displayName": "todaycode오늘코드",
      "photoUrl": "https://lh3.googleusercontent.com/a-/AOh14GgLiO5i_xXRR_qAG77avSrsWiiI4KHJR6t4xysb=s64",
      "userId": "06313463015165663090"
     },
     "user_tz": -540
    },
    "id": "TLE7xbN5-x4o",
    "outputId": "7d4f2ae5-416d-41e8-b85a-ffc3a16235fe"
   },
   "outputs": [
    {
     "data": {
      "text/plain": [
       "1989    035720\n",
       "Name: Symbol, dtype: object"
      ]
     },
     "execution_count": 16,
     "metadata": {
      "tags": []
     },
     "output_type": "execute_result"
    }
   ],
   "source": [
    "df_krx[df_krx[\"Name\"] == \"카카오\"][\"Symbol\"]"
   ]
  },
  {
   "cell_type": "code",
   "execution_count": null,
   "metadata": {
    "colab": {
     "base_uri": "https://localhost:8080/",
     "height": 35
    },
    "executionInfo": {
     "elapsed": 715,
     "status": "ok",
     "timestamp": 1603800983044,
     "user": {
      "displayName": "todaycode오늘코드",
      "photoUrl": "https://lh3.googleusercontent.com/a-/AOh14GgLiO5i_xXRR_qAG77avSrsWiiI4KHJR6t4xysb=s64",
      "userId": "06313463015165663090"
     },
     "user_tz": -540
    },
    "id": "862K46Qe_BaR",
    "outputId": "7e39b45e-6924-4523-ea7f-b234e3e9b7c3"
   },
   "outputs": [
    {
     "data": {
      "application/vnd.google.colaboratory.intrinsic+json": {
       "type": "string"
      },
      "text/plain": [
       "'035720'"
      ]
     },
     "execution_count": 19,
     "metadata": {
      "tags": []
     },
     "output_type": "execute_result"
    }
   ],
   "source": [
    "df_krx.loc[df_krx[\"Name\"] == \"카카오\", \"Symbol\"].tolist()[0]"
   ]
  },
  {
   "cell_type": "code",
   "execution_count": null,
   "metadata": {
    "colab": {
     "base_uri": "https://localhost:8080/",
     "height": 286
    },
    "executionInfo": {
     "elapsed": 2210,
     "status": "ok",
     "timestamp": 1603801120206,
     "user": {
      "displayName": "todaycode오늘코드",
      "photoUrl": "https://lh3.googleusercontent.com/a-/AOh14GgLiO5i_xXRR_qAG77avSrsWiiI4KHJR6t4xysb=s64",
      "userId": "06313463015165663090"
     },
     "user_tz": -540
    },
    "id": "QN4n_rMw_QLj",
    "outputId": "b21606de-a644-4d97-adeb-0acc135a7a4b"
   },
   "outputs": [
    {
     "data": {
      "text/plain": [
       "<matplotlib.axes._subplots.AxesSubplot at 0x7f9e33ae2438>"
      ]
     },
     "execution_count": 23,
     "metadata": {
      "tags": []
     },
     "output_type": "execute_result"
    },
    {
     "data": {
      "image/png": "[encoded data removed]",
      "text/plain": [
       "<Figure size 432x288 with 1 Axes>"
      ]
     },
     "metadata": {
      "needs_background": "light",
      "tags": []
     },
     "output_type": "display_data"
    }
   ],
   "source": [
    "카카오 = fdr.DataReader(\"035720\")\n",
    "카카오[[\"Close\", \"Open\"]].plot()"
   ]
  },
  {
   "cell_type": "code",
   "execution_count": null,
   "metadata": {
    "colab": {
     "base_uri": "https://localhost:8080/",
     "height": 34
    },
    "executionInfo": {
     "elapsed": 531,
     "status": "ok",
     "timestamp": 1603801346927,
     "user": {
      "displayName": "todaycode오늘코드",
      "photoUrl": "https://lh3.googleusercontent.com/a-/AOh14GgLiO5i_xXRR_qAG77avSrsWiiI4KHJR6t4xysb=s64",
      "userId": "06313463015165663090"
     },
     "user_tz": -540
    },
    "id": "F1g3RR69APuZ",
    "outputId": "67f18f6b-fb50-48fc-c249-05278c52d750"
   },
   "outputs": [
    {
     "data": {
      "text/plain": [
       "['035720']"
      ]
     },
     "execution_count": 38,
     "metadata": {
      "tags": []
     },
     "output_type": "execute_result"
    }
   ],
   "source": [
    "name_list = df_krx.loc[df_krx[\"Name\"] == \"카카오\", \"Symbol\"].tolist()\n",
    "name_list"
   ]
  },
  {
   "cell_type": "code",
   "execution_count": null,
   "metadata": {
    "colab": {
     "base_uri": "https://localhost:8080/",
     "height": 34
    },
    "executionInfo": {
     "elapsed": 546,
     "status": "ok",
     "timestamp": 1603801303568,
     "user": {
      "displayName": "todaycode오늘코드",
      "photoUrl": "https://lh3.googleusercontent.com/a-/AOh14GgLiO5i_xXRR_qAG77avSrsWiiI4KHJR6t4xysb=s64",
      "userId": "06313463015165663090"
     },
     "user_tz": -540
    },
    "id": "pxh3eKgpAS9P",
    "outputId": "a1a27081-c1fc-4dc2-ff94-54879c7a0774"
   },
   "outputs": [
    {
     "data": {
      "text/plain": [
       "2"
      ]
     },
     "execution_count": 33,
     "metadata": {
      "tags": []
     },
     "output_type": "execute_result"
    }
   ],
   "source": [
    "num = [1, 2, 3, 4]\n",
    "num[1]"
   ]
  },
  {
   "cell_type": "code",
   "execution_count": null,
   "metadata": {
    "colab": {
     "base_uri": "https://localhost:8080/",
     "height": 34
    },
    "executionInfo": {
     "elapsed": 554,
     "status": "ok",
     "timestamp": 1603801349887,
     "user": {
      "displayName": "todaycode오늘코드",
      "photoUrl": "https://lh3.googleusercontent.com/a-/AOh14GgLiO5i_xXRR_qAG77avSrsWiiI4KHJR6t4xysb=s64",
      "userId": "06313463015165663090"
     },
     "user_tz": -540
    },
    "id": "iTZqIj3K9Ukj",
    "outputId": "7f46633c-71c3-4d1f-a457-4ababad33b3f"
   },
   "outputs": [
    {
     "name": "stdout",
     "output_type": "stream",
     "text": [
      "035720\n"
     ]
    }
   ],
   "source": [
    "\n",
    "if len(name_list) > 0 :\n",
    "    print(name_list[0])"
   ]
  },
  {
   "cell_type": "markdown",
   "metadata": {
    "id": "1tQ_YsPC9Ukl"
   },
   "source": [
    "## 주가 이름으로 종목 코드를 받아오는 함수 만들기"
   ]
  },
  {
   "cell_type": "code",
   "execution_count": null,
   "metadata": {
    "colab": {
     "base_uri": "https://localhost:8080/",
     "height": 35
    },
    "executionInfo": {
     "elapsed": 536,
     "status": "ok",
     "timestamp": 1603801614203,
     "user": {
      "displayName": "todaycode오늘코드",
      "photoUrl": "https://lh3.googleusercontent.com/a-/AOh14GgLiO5i_xXRR_qAG77avSrsWiiI4KHJR6t4xysb=s64",
      "userId": "06313463015165663090"
     },
     "user_tz": -540
    },
    "id": "_Si0XWxSAtaO",
    "outputId": "68b11d64-f9b2-4a8d-b224-d4c7e0f84d7f"
   },
   "outputs": [
    {
     "data": {
      "application/vnd.google.colaboratory.intrinsic+json": {
       "type": "string"
      },
      "text/plain": [
       "'293490'"
      ]
     },
     "execution_count": 46,
     "metadata": {
      "tags": []
     },
     "output_type": "execute_result"
    }
   ],
   "source": [
    "def item_code(item_name):\n",
    "    name_list = df_krx.loc[df_krx[\"Name\"] == item_name, \"Symbol\"].tolist()\n",
    "    if len(name_list) > 0:\n",
    "        return name_list[0]\n",
    "    else:\n",
    "        False\n",
    "\n",
    "item_code(\"카카오게임즈\")"
   ]
  },
  {
   "cell_type": "code",
   "execution_count": null,
   "metadata": {
    "id": "dDhERgla9Ukm"
   },
   "outputs": [],
   "source": [
    "# 주가 이름으로 종목코드 받아오는 함수 만들기\n",
    "\n",
    "def item_code_by_item_name(item_name):\n",
    "    name_list = df_krx.loc[df_krx[\"Name\"] == item_name, \"Symbol\"].tolist()\n",
    "    if len(name_list) > 0 :\n",
    "        item_code = name_list[0]\n",
    "        return item_code\n",
    "    else:\n",
    "        return False"
   ]
  },
  {
   "cell_type": "code",
   "execution_count": null,
   "metadata": {
    "colab": {
     "base_uri": "https://localhost:8080/",
     "height": 35
    },
    "executionInfo": {
     "elapsed": 757,
     "status": "ok",
     "timestamp": 1603801652555,
     "user": {
      "displayName": "todaycode오늘코드",
      "photoUrl": "https://lh3.googleusercontent.com/a-/AOh14GgLiO5i_xXRR_qAG77avSrsWiiI4KHJR6t4xysb=s64",
      "userId": "06313463015165663090"
     },
     "user_tz": -540
    },
    "id": "85znm7yR9Uko",
    "outputId": "f755c669-e77b-46d6-f0f9-46495fd93284"
   },
   "outputs": [
    {
     "data": {
      "application/vnd.google.colaboratory.intrinsic+json": {
       "type": "string"
      },
      "text/plain": [
       "'035420'"
      ]
     },
     "execution_count": 49,
     "metadata": {
      "tags": []
     },
     "output_type": "execute_result"
    }
   ],
   "source": [
    "item_code_by_item_name(\"NAVER\")"
   ]
  },
  {
   "cell_type": "code",
   "execution_count": null,
   "metadata": {
    "colab": {
     "base_uri": "https://localhost:8080/",
     "height": 35
    },
    "executionInfo": {
     "elapsed": 541,
     "status": "ok",
     "timestamp": 1603801672820,
     "user": {
      "displayName": "todaycode오늘코드",
      "photoUrl": "https://lh3.googleusercontent.com/a-/AOh14GgLiO5i_xXRR_qAG77avSrsWiiI4KHJR6t4xysb=s64",
      "userId": "06313463015165663090"
     },
     "user_tz": -540
    },
    "id": "vSZ_2tI29Ukq",
    "outputId": "42219042-f306-4702-8be8-046e61432eb3"
   },
   "outputs": [
    {
     "data": {
      "application/vnd.google.colaboratory.intrinsic+json": {
       "type": "string"
      },
      "text/plain": [
       "'019170'"
      ]
     },
     "execution_count": 50,
     "metadata": {
      "tags": []
     },
     "output_type": "execute_result"
    }
   ],
   "source": [
    "item_code_by_item_name(\"신풍제약\")"
   ]
  },
  {
   "cell_type": "code",
   "execution_count": null,
   "metadata": {
    "colab": {
     "base_uri": "https://localhost:8080/",
     "height": 35
    },
    "executionInfo": {
     "elapsed": 823,
     "status": "ok",
     "timestamp": 1603801679979,
     "user": {
      "displayName": "todaycode오늘코드",
      "photoUrl": "https://lh3.googleusercontent.com/a-/AOh14GgLiO5i_xXRR_qAG77avSrsWiiI4KHJR6t4xysb=s64",
      "userId": "06313463015165663090"
     },
     "user_tz": -540
    },
    "id": "yWX7xtz19Uks",
    "outputId": "7286c175-1c26-4901-d81d-396bce791e7c"
   },
   "outputs": [
    {
     "data": {
      "application/vnd.google.colaboratory.intrinsic+json": {
       "type": "string"
      },
      "text/plain": [
       "'096530'"
      ]
     },
     "execution_count": 51,
     "metadata": {
      "tags": []
     },
     "output_type": "execute_result"
    }
   ],
   "source": [
    "item_code_by_item_name(\"씨젠\")"
   ]
  },
  {
   "cell_type": "markdown",
   "metadata": {
    "id": "pXKGCN5C9Ukv"
   },
   "source": [
    "## 주가 이름으로 종목 데이터 받아오는 함수"
   ]
  },
  {
   "cell_type": "code",
   "execution_count": null,
   "metadata": {
    "id": "fAHivO2i9Ukv"
   },
   "outputs": [],
   "source": [
    "def find_item_list(item_name, year=2020):\n",
    "    item_code = item_code_by_item_name(item_name)\n",
    "    df = fdr.DataReader(item_code, str(year))\n",
    "    return df"
   ]
  },
  {
   "cell_type": "code",
   "execution_count": null,
   "metadata": {
    "colab": {
     "base_uri": "https://localhost:8080/",
     "height": 450
    },
    "executionInfo": {
     "elapsed": 1901,
     "status": "ok",
     "timestamp": 1603801863285,
     "user": {
      "displayName": "todaycode오늘코드",
      "photoUrl": "https://lh3.googleusercontent.com/a-/AOh14GgLiO5i_xXRR_qAG77avSrsWiiI4KHJR6t4xysb=s64",
      "userId": "06313463015165663090"
     },
     "user_tz": -540
    },
    "id": "yHktZkIk9Uky",
    "outputId": "00bcbd39-6278-4984-972c-ef830923392f"
   },
   "outputs": [
    {
     "data": {
      "text/html": [
       "<div>\n",
       "<style scoped>\n",
       "    .dataframe tbody tr th:only-of-type {\n",
       "        vertical-align: middle;\n",
       "    }\n",
       "\n",
       "    .dataframe tbody tr th {\n",
       "        vertical-align: top;\n",
       "    }\n",
       "\n",
       "    .dataframe thead th {\n",
       "        text-align: right;\n",
       "    }\n",
       "</style>\n",
       "<table border=\"1\" class=\"dataframe\">\n",
       "  <thead>\n",
       "    <tr style=\"text-align: right;\">\n",
       "      <th></th>\n",
       "      <th>Open</th>\n",
       "      <th>High</th>\n",
       "      <th>Low</th>\n",
       "      <th>Close</th>\n",
       "      <th>Volume</th>\n",
       "      <th>Change</th>\n",
       "    </tr>\n",
       "    <tr>\n",
       "      <th>Date</th>\n",
       "      <th></th>\n",
       "      <th></th>\n",
       "      <th></th>\n",
       "      <th></th>\n",
       "      <th></th>\n",
       "      <th></th>\n",
       "    </tr>\n",
       "  </thead>\n",
       "  <tbody>\n",
       "    <tr>\n",
       "      <th>1999-11-11</th>\n",
       "      <td>4979</td>\n",
       "      <td>4979</td>\n",
       "      <td>4979</td>\n",
       "      <td>4979</td>\n",
       "      <td>12</td>\n",
       "      <td>NaN</td>\n",
       "    </tr>\n",
       "    <tr>\n",
       "      <th>1999-11-12</th>\n",
       "      <td>5557</td>\n",
       "      <td>5557</td>\n",
       "      <td>5557</td>\n",
       "      <td>5557</td>\n",
       "      <td>140</td>\n",
       "      <td>0.116088</td>\n",
       "    </tr>\n",
       "    <tr>\n",
       "      <th>1999-11-15</th>\n",
       "      <td>6224</td>\n",
       "      <td>6224</td>\n",
       "      <td>6224</td>\n",
       "      <td>6223</td>\n",
       "      <td>405</td>\n",
       "      <td>0.119849</td>\n",
       "    </tr>\n",
       "    <tr>\n",
       "      <th>1999-11-16</th>\n",
       "      <td>6957</td>\n",
       "      <td>6957</td>\n",
       "      <td>6957</td>\n",
       "      <td>6957</td>\n",
       "      <td>214</td>\n",
       "      <td>0.117950</td>\n",
       "    </tr>\n",
       "    <tr>\n",
       "      <th>1999-11-17</th>\n",
       "      <td>7780</td>\n",
       "      <td>7780</td>\n",
       "      <td>7780</td>\n",
       "      <td>7779</td>\n",
       "      <td>191</td>\n",
       "      <td>0.118154</td>\n",
       "    </tr>\n",
       "    <tr>\n",
       "      <th>...</th>\n",
       "      <td>...</td>\n",
       "      <td>...</td>\n",
       "      <td>...</td>\n",
       "      <td>...</td>\n",
       "      <td>...</td>\n",
       "      <td>...</td>\n",
       "    </tr>\n",
       "    <tr>\n",
       "      <th>2020-10-21</th>\n",
       "      <td>351000</td>\n",
       "      <td>361000</td>\n",
       "      <td>351000</td>\n",
       "      <td>353500</td>\n",
       "      <td>516282</td>\n",
       "      <td>0.002837</td>\n",
       "    </tr>\n",
       "    <tr>\n",
       "      <th>2020-10-22</th>\n",
       "      <td>351500</td>\n",
       "      <td>352000</td>\n",
       "      <td>345500</td>\n",
       "      <td>349000</td>\n",
       "      <td>376380</td>\n",
       "      <td>-0.012730</td>\n",
       "    </tr>\n",
       "    <tr>\n",
       "      <th>2020-10-23</th>\n",
       "      <td>348500</td>\n",
       "      <td>350000</td>\n",
       "      <td>340000</td>\n",
       "      <td>340000</td>\n",
       "      <td>622592</td>\n",
       "      <td>-0.025788</td>\n",
       "    </tr>\n",
       "    <tr>\n",
       "      <th>2020-10-26</th>\n",
       "      <td>337000</td>\n",
       "      <td>341000</td>\n",
       "      <td>328000</td>\n",
       "      <td>329500</td>\n",
       "      <td>714722</td>\n",
       "      <td>-0.030882</td>\n",
       "    </tr>\n",
       "    <tr>\n",
       "      <th>2020-10-27</th>\n",
       "      <td>324500</td>\n",
       "      <td>343500</td>\n",
       "      <td>324500</td>\n",
       "      <td>334000</td>\n",
       "      <td>788317</td>\n",
       "      <td>0.013657</td>\n",
       "    </tr>\n",
       "  </tbody>\n",
       "</table>\n",
       "<p>5173 rows × 6 columns</p>\n",
       "</div>"
      ],
      "text/plain": [
       "              Open    High     Low   Close  Volume    Change\n",
       "Date                                                        \n",
       "1999-11-11    4979    4979    4979    4979      12       NaN\n",
       "1999-11-12    5557    5557    5557    5557     140  0.116088\n",
       "1999-11-15    6224    6224    6224    6223     405  0.119849\n",
       "1999-11-16    6957    6957    6957    6957     214  0.117950\n",
       "1999-11-17    7780    7780    7780    7779     191  0.118154\n",
       "...            ...     ...     ...     ...     ...       ...\n",
       "2020-10-21  351000  361000  351000  353500  516282  0.002837\n",
       "2020-10-22  351500  352000  345500  349000  376380 -0.012730\n",
       "2020-10-23  348500  350000  340000  340000  622592 -0.025788\n",
       "2020-10-26  337000  341000  328000  329500  714722 -0.030882\n",
       "2020-10-27  324500  343500  324500  334000  788317  0.013657\n",
       "\n",
       "[5173 rows x 6 columns]"
      ]
     },
     "execution_count": 61,
     "metadata": {
      "tags": []
     },
     "output_type": "execute_result"
    }
   ],
   "source": [
    "find_item_list(\"카카오\")"
   ]
  },
  {
   "cell_type": "code",
   "execution_count": null,
   "metadata": {
    "id": "dluC_Xhm9Uk0"
   },
   "outputs": [],
   "source": [
    "nc = find_item_list(\"엔씨소프트\")"
   ]
  },
  {
   "cell_type": "code",
   "execution_count": null,
   "metadata": {
    "id": "TQGM6Zy89Uk2"
   },
   "outputs": [],
   "source": [
    "nc.to_csv(\"nc.csv\")"
   ]
  },
  {
   "cell_type": "code",
   "execution_count": null,
   "metadata": {
    "colab": {
     "base_uri": "https://localhost:8080/",
     "height": 419
    },
    "executionInfo": {
     "elapsed": 522,
     "status": "ok",
     "timestamp": 1603801935150,
     "user": {
      "displayName": "todaycode오늘코드",
      "photoUrl": "https://lh3.googleusercontent.com/a-/AOh14GgLiO5i_xXRR_qAG77avSrsWiiI4KHJR6t4xysb=s64",
      "userId": "06313463015165663090"
     },
     "user_tz": -540
    },
    "id": "040MF3lS9Uk4",
    "outputId": "d1efba74-f403-4fd7-913b-56e0be4e4d72"
   },
   "outputs": [
    {
     "data": {
      "text/html": [
       "<div>\n",
       "<style scoped>\n",
       "    .dataframe tbody tr th:only-of-type {\n",
       "        vertical-align: middle;\n",
       "    }\n",
       "\n",
       "    .dataframe tbody tr th {\n",
       "        vertical-align: top;\n",
       "    }\n",
       "\n",
       "    .dataframe thead th {\n",
       "        text-align: right;\n",
       "    }\n",
       "</style>\n",
       "<table border=\"1\" class=\"dataframe\">\n",
       "  <thead>\n",
       "    <tr style=\"text-align: right;\">\n",
       "      <th></th>\n",
       "      <th>Date</th>\n",
       "      <th>Open</th>\n",
       "      <th>High</th>\n",
       "      <th>Low</th>\n",
       "      <th>Close</th>\n",
       "      <th>Volume</th>\n",
       "      <th>Change</th>\n",
       "    </tr>\n",
       "  </thead>\n",
       "  <tbody>\n",
       "    <tr>\n",
       "      <th>0</th>\n",
       "      <td>2000-07-11</td>\n",
       "      <td>78400</td>\n",
       "      <td>78400</td>\n",
       "      <td>78400</td>\n",
       "      <td>78400</td>\n",
       "      <td>8</td>\n",
       "      <td>NaN</td>\n",
       "    </tr>\n",
       "    <tr>\n",
       "      <th>1</th>\n",
       "      <td>2000-07-12</td>\n",
       "      <td>87800</td>\n",
       "      <td>87800</td>\n",
       "      <td>87800</td>\n",
       "      <td>87800</td>\n",
       "      <td>206</td>\n",
       "      <td>0.119898</td>\n",
       "    </tr>\n",
       "    <tr>\n",
       "      <th>2</th>\n",
       "      <td>2000-07-13</td>\n",
       "      <td>98300</td>\n",
       "      <td>98300</td>\n",
       "      <td>98300</td>\n",
       "      <td>98300</td>\n",
       "      <td>92439</td>\n",
       "      <td>0.119590</td>\n",
       "    </tr>\n",
       "    <tr>\n",
       "      <th>3</th>\n",
       "      <td>2000-07-14</td>\n",
       "      <td>110000</td>\n",
       "      <td>110000</td>\n",
       "      <td>104500</td>\n",
       "      <td>110000</td>\n",
       "      <td>166400</td>\n",
       "      <td>0.119023</td>\n",
       "    </tr>\n",
       "    <tr>\n",
       "      <th>4</th>\n",
       "      <td>2000-07-18</td>\n",
       "      <td>123000</td>\n",
       "      <td>123000</td>\n",
       "      <td>123000</td>\n",
       "      <td>123000</td>\n",
       "      <td>9918</td>\n",
       "      <td>0.118182</td>\n",
       "    </tr>\n",
       "    <tr>\n",
       "      <th>...</th>\n",
       "      <td>...</td>\n",
       "      <td>...</td>\n",
       "      <td>...</td>\n",
       "      <td>...</td>\n",
       "      <td>...</td>\n",
       "      <td>...</td>\n",
       "      <td>...</td>\n",
       "    </tr>\n",
       "    <tr>\n",
       "      <th>5007</th>\n",
       "      <td>2020-10-21</td>\n",
       "      <td>799000</td>\n",
       "      <td>813000</td>\n",
       "      <td>794000</td>\n",
       "      <td>809000</td>\n",
       "      <td>108005</td>\n",
       "      <td>0.018892</td>\n",
       "    </tr>\n",
       "    <tr>\n",
       "      <th>5008</th>\n",
       "      <td>2020-10-22</td>\n",
       "      <td>807000</td>\n",
       "      <td>820000</td>\n",
       "      <td>798000</td>\n",
       "      <td>811000</td>\n",
       "      <td>85163</td>\n",
       "      <td>0.002472</td>\n",
       "    </tr>\n",
       "    <tr>\n",
       "      <th>5009</th>\n",
       "      <td>2020-10-23</td>\n",
       "      <td>816000</td>\n",
       "      <td>816000</td>\n",
       "      <td>791000</td>\n",
       "      <td>796000</td>\n",
       "      <td>80718</td>\n",
       "      <td>-0.018496</td>\n",
       "    </tr>\n",
       "    <tr>\n",
       "      <th>5010</th>\n",
       "      <td>2020-10-26</td>\n",
       "      <td>794000</td>\n",
       "      <td>809000</td>\n",
       "      <td>788000</td>\n",
       "      <td>796000</td>\n",
       "      <td>49132</td>\n",
       "      <td>0.000000</td>\n",
       "    </tr>\n",
       "    <tr>\n",
       "      <th>5011</th>\n",
       "      <td>2020-10-27</td>\n",
       "      <td>785000</td>\n",
       "      <td>800000</td>\n",
       "      <td>780000</td>\n",
       "      <td>782000</td>\n",
       "      <td>74927</td>\n",
       "      <td>-0.017588</td>\n",
       "    </tr>\n",
       "  </tbody>\n",
       "</table>\n",
       "<p>5012 rows × 7 columns</p>\n",
       "</div>"
      ],
      "text/plain": [
       "            Date    Open    High     Low   Close  Volume    Change\n",
       "0     2000-07-11   78400   78400   78400   78400       8       NaN\n",
       "1     2000-07-12   87800   87800   87800   87800     206  0.119898\n",
       "2     2000-07-13   98300   98300   98300   98300   92439  0.119590\n",
       "3     2000-07-14  110000  110000  104500  110000  166400  0.119023\n",
       "4     2000-07-18  123000  123000  123000  123000    9918  0.118182\n",
       "...          ...     ...     ...     ...     ...     ...       ...\n",
       "5007  2020-10-21  799000  813000  794000  809000  108005  0.018892\n",
       "5008  2020-10-22  807000  820000  798000  811000   85163  0.002472\n",
       "5009  2020-10-23  816000  816000  791000  796000   80718 -0.018496\n",
       "5010  2020-10-26  794000  809000  788000  796000   49132  0.000000\n",
       "5011  2020-10-27  785000  800000  780000  782000   74927 -0.017588\n",
       "\n",
       "[5012 rows x 7 columns]"
      ]
     },
     "execution_count": 65,
     "metadata": {
      "tags": []
     },
     "output_type": "execute_result"
    }
   ],
   "source": [
    "pd.read_csv(\"nc.csv\")"
   ]
  },
  {
   "cell_type": "code",
   "execution_count": null,
   "metadata": {
    "id": "pWjShup99Uk7"
   },
   "outputs": [],
   "source": []
  },
  {
   "cell_type": "code",
   "execution_count": null,
   "metadata": {
    "id": "16K3k_i-9Uk9"
   },
   "outputs": [],
   "source": []
  },
  {
   "cell_type": "code",
   "execution_count": null,
   "metadata": {
    "id": "nFb9WINs9Uk_"
   },
   "outputs": [],
   "source": []
  }
 ],
 "metadata": {
  "colab": {
   "name": "2. FinanceDataReader를 통한 개별종목 수집하기.ipynb",
   "provenance": [],
   "toc_visible": true
  },
  "kernelspec": {
   "display_name": "Python 3 (ipykernel)",
   "language": "python",
   "name": "python3"
  },
  "language_info": {
   "codemirror_mode": {
    "name": "ipython",
    "version": 3
   },
   "file_extension": ".py",
   "mimetype": "text/x-python",
   "name": "python",
   "nbconvert_exporter": "python",
   "pygments_lexer": "ipython3",
   "version": "3.9.1"
  },
  "varInspector": {
   "cols": {
    "lenName": 16,
    "lenType": 16,
    "lenVar": 40
   },
   "kernels_config": {
    "python": {
     "delete_cmd_postfix": "",
     "delete_cmd_prefix": "del ",
     "library": "var_list.py",
     "varRefreshCmd": "print(var_dic_list())"
    },
    "r": {
     "delete_cmd_postfix": ") ",
     "delete_cmd_prefix": "rm(",
     "library": "var_list.r",
     "varRefreshCmd": "cat(var_dic_list()) "
    }
   },
   "types_to_exclude": [
    "module",
    "function",
    "builtin_function_or_method",
    "instance",
    "_Feature"
   ],
   "window_display": false
  }
 },
 "nbformat": 4,
 "nbformat_minor": 4
}
