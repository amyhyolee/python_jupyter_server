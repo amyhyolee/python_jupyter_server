{
 "cells": [
  {
   "cell_type": "markdown",
   "metadata": {
    "id": "uBtzXrGD8kx6"
   },
   "source": [
    "# 강의소개\n",
    "\n",
    "## 주의할점\n",
    "* 이 강의는 투자목적이 아닌 파이썬으로 데이터 분석과 시각화를 익혀보는데 있습니다.\n",
    "\n",
    "\n",
    "## 수업자료\n",
    "\n",
    "* 수업자료는 온라인 구글 Colab을 사용할 예정이니 Colab 에서 아래 폴더 안에 파일이 열리는지 확인해 주세요!\n",
    "* 수업자료 링크(링크의 중간에 _ 언더바가 있으니 타이핑으로 옮겨 적으실 때 주의해 주세요!)\n",
    "    * http://bit.ly/watch_me_python_file\n",
    "\n",
    "\n",
    "## 강의순서\n",
    "### Day1 판다스가 원래 주식 분석용으로 나왔다고요?\n",
    "\n",
    "1. Colab을 통한 파이썬 개발환경 소개\n",
    "\n",
    "* 크롬 브라우저 사용을 권장\n",
    "* 파이썬과 데이터분석 라이브러리\n",
    "    * numpy : 수치계산\n",
    "    * pandas : 데이터 분석\n",
    "    * seaborn : 시각화\n",
    "    * matplotlib : seaborn 의 기반이 되는 시각화 도구\n",
    "    * tqdm : 작업의 진행상황을 퍼센트 값으로 보여주는 도구\n",
    "   \n",
    "* 파이썬 주가분석 라이브러리\n",
    "    * FinanceDataReader : 진짜 코드 한 줄로 주가 데이터 수집\n",
    "    * mplfinance : 캔들차트외 다양한 그래프 그리기\n",
    " \n",
    "1. krx 데이터 가져오기 기업명과 Symbol 가져오기\n",
    "1. FinanceDataReader를 통한 특정 주가수집\n",
    "    * 종목투표 주가 수집\n",
    "    * 종목명으로 종목코드 받아오는 함수만들기\n",
    "    * 종목명으로 주가 데이터 수집하기\n",
    "    \n",
    "1. 네이버 증권을 통한 주가수집\n",
    "    * 웹 데이터 수집시 주의점 : 로봇배제표준(robots.txt 확인, 권고안), 저작권 확인\n",
    "    * pandas 의 read_html 로 FinanceDataReader 처럼 주가 데이터를 수집\n",
    "    * 반복문을 사용해서 전체 기간 종목 데이터 수집하기\n",
    "    * 함수를 통해 종목명을 입력하면 2020년 주가를 받아오는 함수를 만들기\n",
    "  \n",
    "1. 테마주 수집(ft. 전기자동차)\n",
    "    * 팀장님이 우리 회사와 유사한 테마로 사업을 하고 있는 종목을 수집해서 분석해 달라는 미션을 주셨습니다.\n",
    "    * 코스피에서 해당 테마의 시가총액이 가장 많은 종목을 찾아주세요.\n",
    "    * 해당 테마의 거래량이 가장 많은 종목을 찾아주에세요.\n",
    "    * 최근 52주 최고가에서 현재가 기준으로 가장 손실이 크게 난 종목은 어떤 종목일까요?\n",
    "    * 거래대금이 20위 안에 있는 코스피 종목 중에 \"동일업종 PER\"가 가장 낮은 종목은 무엇일까요?\n",
    "\n",
    "\n",
    "### Day2 전설의 주식 분석과 시각화\n",
    "\n",
    "1. 볼린저밴드\n",
    "1. 캔들차트\n",
    "1. 상관계수\n",
    "\n"
   ]
  },
  {
   "cell_type": "code",
   "execution_count": null,
   "metadata": {
    "id": "mhBSNSO-8kx7"
   },
   "outputs": [],
   "source": []
  }
 ],
 "metadata": {
  "colab": {
   "name": "0. 강의소개.ipynb",
   "provenance": []
  },
  "kernelspec": {
   "display_name": "Python 3 (ipykernel)",
   "language": "python",
   "name": "python3"
  },
  "language_info": {
   "codemirror_mode": {
    "name": "ipython",
    "version": 3
   },
   "file_extension": ".py",
   "mimetype": "text/x-python",
   "name": "python",
   "nbconvert_exporter": "python",
   "pygments_lexer": "ipython3",
   "version": "3.9.1"
  },
  "varInspector": {
   "cols": {
    "lenName": 16,
    "lenType": 16,
    "lenVar": 40
   },
   "kernels_config": {
    "python": {
     "delete_cmd_postfix": "",
     "delete_cmd_prefix": "del ",
     "library": "var_list.py",
     "varRefreshCmd": "print(var_dic_list())"
    },
    "r": {
     "delete_cmd_postfix": ") ",
     "delete_cmd_prefix": "rm(",
     "library": "var_list.r",
     "varRefreshCmd": "cat(var_dic_list()) "
    }
   },
   "types_to_exclude": [
    "module",
    "function",
    "builtin_function_or_method",
    "instance",
    "_Feature"
   ],
   "window_display": false
  }
 },
 "nbformat": 4,
 "nbformat_minor": 4
}
