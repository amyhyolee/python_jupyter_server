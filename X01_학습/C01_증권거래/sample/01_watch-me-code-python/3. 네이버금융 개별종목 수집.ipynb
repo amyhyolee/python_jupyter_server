{
 "cells": [
  {
   "cell_type": "code",
   "execution_count": null,
   "metadata": {
    "id": "kG4UF-ANDEII"
   },
   "outputs": [],
   "source": [
    "## 네이버 금융 개별종목 수집"
   ]
  },
  {
   "cell_type": "code",
   "execution_count": 1,
   "metadata": {
    "executionInfo": {
     "elapsed": 1078,
     "status": "ok",
     "timestamp": 1615877567241,
     "user": {
      "displayName": "todaycode오늘코드",
      "photoUrl": "https://lh3.googleusercontent.com/a-/AOh14GgLiO5i_xXRR_qAG77avSrsWiiI4KHJR6t4xysb=s64",
      "userId": "06313463015165663090"
     },
     "user_tz": -540
    },
    "id": "qspdk1L1DEIM"
   },
   "outputs": [],
   "source": [
    "import pandas as pd"
   ]
  },
  {
   "cell_type": "markdown",
   "metadata": {
    "id": "tobYyFdFDEIP"
   },
   "source": [
    "* 2020년 주요 상장주식\n",
    "    * 빅히트 : https://finance.naver.com/item/main.nhn?code=352820\n",
    "    * 카카오게임즈 : https://finance.naver.com/item/main.nhn?code=293490\n",
    "    * SK바이오팜 : https://finance.naver.com/item/main.nhn?code=326030"
   ]
  },
  {
   "cell_type": "code",
   "execution_count": 2,
   "metadata": {
    "executionInfo": {
     "elapsed": 1065,
     "status": "ok",
     "timestamp": 1615877567243,
     "user": {
      "displayName": "todaycode오늘코드",
      "photoUrl": "https://lh3.googleusercontent.com/a-/AOh14GgLiO5i_xXRR_qAG77avSrsWiiI4KHJR6t4xysb=s64",
      "userId": "06313463015165663090"
     },
     "user_tz": -540
    },
    "id": "dD-_mnmuDEIP"
   },
   "outputs": [],
   "source": [
    "# item_code = \"352820\"\n",
    "# item_name = \"빅히트\"\n",
    "\n",
    "item_code = \"326030\"\n",
    "item_name = \"SK바이오팜\"\n",
    "\n",
    "\n",
    "# 종목 URL 만들기\n",
    "# url = f\"https://finance.naver.com/item/sise.nhn?code={item_code}\"\n",
    "url = f\"https://finance.naver.com/item/sise_day.nhn?code={item_code}&page=1\""
   ]
  },
  {
   "cell_type": "code",
   "execution_count": 3,
   "metadata": {
    "colab": {
     "base_uri": "https://localhost:8080/",
     "height": 35
    },
    "executionInfo": {
     "elapsed": 1039,
     "status": "ok",
     "timestamp": 1615877567244,
     "user": {
      "displayName": "todaycode오늘코드",
      "photoUrl": "https://lh3.googleusercontent.com/a-/AOh14GgLiO5i_xXRR_qAG77avSrsWiiI4KHJR6t4xysb=s64",
      "userId": "06313463015165663090"
     },
     "user_tz": -540
    },
    "id": "Nk3xp0VLEeuj",
    "outputId": "2069c334-0fdd-4b15-93a0-62cb08999ee0"
   },
   "outputs": [
    {
     "data": {
      "application/vnd.google.colaboratory.intrinsic+json": {
       "type": "string"
      },
      "text/plain": [
       "'http://naver.com'"
      ]
     },
     "execution_count": 3,
     "metadata": {
      "tags": []
     },
     "output_type": "execute_result"
    }
   ],
   "source": [
    "domain = \"naver.com\"\n",
    "f\"http://{domain}\""
   ]
  },
  {
   "cell_type": "code",
   "execution_count": 4,
   "metadata": {
    "colab": {
     "base_uri": "https://localhost:8080/",
     "height": 35
    },
    "executionInfo": {
     "elapsed": 1023,
     "status": "ok",
     "timestamp": 1615877567246,
     "user": {
      "displayName": "todaycode오늘코드",
      "photoUrl": "https://lh3.googleusercontent.com/a-/AOh14GgLiO5i_xXRR_qAG77avSrsWiiI4KHJR6t4xysb=s64",
      "userId": "06313463015165663090"
     },
     "user_tz": -540
    },
    "id": "Z9WvPY12EXNH",
    "outputId": "6bdaf9a7-e237-428e-d266-021804beafd4"
   },
   "outputs": [
    {
     "data": {
      "application/vnd.google.colaboratory.intrinsic+json": {
       "type": "string"
      },
      "text/plain": [
       "'https://finance.naver.com/item/sise_day.nhn?code=326030&page=1'"
      ]
     },
     "execution_count": 4,
     "metadata": {
      "tags": []
     },
     "output_type": "execute_result"
    }
   ],
   "source": [
    "url"
   ]
  },
  {
   "cell_type": "code",
   "execution_count": 5,
   "metadata": {
    "colab": {
     "base_uri": "https://localhost:8080/",
     "height": 35
    },
    "executionInfo": {
     "elapsed": 1019,
     "status": "ok",
     "timestamp": 1615877567247,
     "user": {
      "displayName": "todaycode오늘코드",
      "photoUrl": "https://lh3.googleusercontent.com/a-/AOh14GgLiO5i_xXRR_qAG77avSrsWiiI4KHJR6t4xysb=s64",
      "userId": "06313463015165663090"
     },
     "user_tz": -540
    },
    "id": "61PQ_xxJELz2",
    "outputId": "5bf2f569-a0b5-473f-945f-bb86baef430a"
   },
   "outputs": [
    {
     "data": {
      "application/vnd.google.colaboratory.intrinsic+json": {
       "type": "string"
      },
      "text/plain": [
       "'/item/sise_day.nhn?code=326030&page=3'"
      ]
     },
     "execution_count": 5,
     "metadata": {
      "tags": []
     },
     "output_type": "execute_result"
    }
   ],
   "source": [
    "\"/item/sise_day.nhn?code=326030&page=3\""
   ]
  },
  {
   "cell_type": "code",
   "execution_count": 6,
   "metadata": {
    "colab": {
     "base_uri": "https://localhost:8080/"
    },
    "executionInfo": {
     "elapsed": 1011,
     "status": "ok",
     "timestamp": 1615877567248,
     "user": {
      "displayName": "todaycode오늘코드",
      "photoUrl": "https://lh3.googleusercontent.com/a-/AOh14GgLiO5i_xXRR_qAG77avSrsWiiI4KHJR6t4xysb=s64",
      "userId": "06313463015165663090"
     },
     "user_tz": -540
    },
    "id": "2omWswQ9Eugw",
    "outputId": "5e201e0d-00fb-4f7a-b672-fda1d94f743a"
   },
   "outputs": [
    {
     "data": {
      "text/plain": [
       "False"
      ]
     },
     "execution_count": 6,
     "metadata": {
      "tags": []
     },
     "output_type": "execute_result"
    }
   ],
   "source": [
    "1 == \"1\""
   ]
  },
  {
   "cell_type": "code",
   "execution_count": 7,
   "metadata": {
    "colab": {
     "base_uri": "https://localhost:8080/"
    },
    "executionInfo": {
     "elapsed": 1000,
     "status": "ok",
     "timestamp": 1615877567251,
     "user": {
      "displayName": "todaycode오늘코드",
      "photoUrl": "https://lh3.googleusercontent.com/a-/AOh14GgLiO5i_xXRR_qAG77avSrsWiiI4KHJR6t4xysb=s64",
      "userId": "06313463015165663090"
     },
     "user_tz": -540
    },
    "id": "fTFuYVHdE6CL",
    "outputId": "3e9e0ab4-7c67-4294-eaef-56ca3de24d92"
   },
   "outputs": [
    {
     "data": {
      "text/plain": [
       "True"
      ]
     },
     "execution_count": 7,
     "metadata": {
      "tags": []
     },
     "output_type": "execute_result"
    }
   ],
   "source": [
    "str(1) == \"1\""
   ]
  },
  {
   "cell_type": "markdown",
   "metadata": {
    "id": "CUiCYxKSz5WZ"
   },
   "source": [
    "## <font color=\"red\">라이브 강의 이후 변경사항 </font>\n",
    "* 네이버 증권 일별 시세의 웹페이지가 변경되어 기존의 방법으로는 불러올 수 없습니다.\n",
    "* 일별 시세 페이지에서 브라우저가 아닐 때 응답을 하지 않기 때문인데 이 때 requests 라는 라이브러리를 통해 HTTP 요청을 보내고 웹사이트의 소스코드를 받아와서 table 태그를 찾는 방법으로 받아올 수 있습니다.\n",
    "\n",
    "* 아래의 코드를 보면 requests를 통해 HTTP 통신을 보내고 beautifulsoup을 통해 HTML 페이지 내에서 table 태그를 찾습니다.\n",
    "* table 태그를 read_html로 불러오면 판다스의 데이터프레임으로 읽어올 수 있습니다.\n",
    "\n",
    "## requests를 통한 HTTP 요청\n",
    "* [Requests: HTTP for Humans™ — Requests documentation](https://requests.readthedocs.io/en/master/)\n",
    "* [Quickstart — Requests documentation # custom-headers](https://requests.readthedocs.io/en/latest/user/quickstart/#custom-headers)"
   ]
  },
  {
   "cell_type": "code",
   "execution_count": 9,
   "metadata": {
    "executionInfo": {
     "elapsed": 1125,
     "status": "ok",
     "timestamp": 1615877575559,
     "user": {
      "displayName": "todaycode오늘코드",
      "photoUrl": "https://lh3.googleusercontent.com/a-/AOh14GgLiO5i_xXRR_qAG77avSrsWiiI4KHJR6t4xysb=s64",
      "userId": "06313463015165663090"
     },
     "user_tz": -540
    },
    "id": "-hTOA7AQzwX0"
   },
   "outputs": [],
   "source": [
    "# 일별 시세 페이지를 읽어 올 때 브라우저가 아니면 응답을 하지 않기 때문에 브라우저 인 것 처럼 요청을 보냅니다.\n",
    "# 응답으로 HTML 페이지 전체를 받아옵니다.\n",
    "import requests\n",
    "\n",
    "headers = {'user-agent': 'Mozilla/5.0 (Macintosh; Intel Mac OS X 10_15_7) AppleWebKit/537.36 (KHTML, like Gecko) Chrome/88.0.4324.96 Safari/537.36'}\n",
    "\n",
    "response = requests.get(url, headers=headers)\n",
    "# response.text"
   ]
  },
  {
   "cell_type": "markdown",
   "metadata": {
    "id": "59n2sQuWz15j"
   },
   "source": [
    "## BeautifulSoup 을 통한 table 태그 찾기"
   ]
  },
  {
   "cell_type": "code",
   "execution_count": 42,
   "metadata": {
    "colab": {
     "base_uri": "https://localhost:8080/"
    },
    "executionInfo": {
     "elapsed": 807,
     "status": "ok",
     "timestamp": 1615877731818,
     "user": {
      "displayName": "todaycode오늘코드",
      "photoUrl": "https://lh3.googleusercontent.com/a-/AOh14GgLiO5i_xXRR_qAG77avSrsWiiI4KHJR6t4xysb=s64",
      "userId": "06313463015165663090"
     },
     "user_tz": -540
    },
    "id": "v67pZoNnzxy5",
    "outputId": "2c938e56-3b79-45e4-c437-76a7f496d679"
   },
   "outputs": [
    {
     "data": {
      "text/plain": [
       "2"
      ]
     },
     "execution_count": 42,
     "metadata": {
      "tags": []
     },
     "output_type": "execute_result"
    }
   ],
   "source": [
    "# BeautifulSoup 을 통해 html 페이지 내의 table 태그를 찾습니다.\n",
    "from bs4 import BeautifulSoup as bs\n",
    "\n",
    "html = bs(response.text, \"lxml\")\n",
    "html_table = html.select(\"table\")\n",
    "len(html_table)"
   ]
  },
  {
   "cell_type": "code",
   "execution_count": 43,
   "metadata": {
    "colab": {
     "base_uri": "https://localhost:8080/",
     "height": 359
    },
    "executionInfo": {
     "elapsed": 890,
     "status": "ok",
     "timestamp": 1615877734817,
     "user": {
      "displayName": "todaycode오늘코드",
      "photoUrl": "https://lh3.googleusercontent.com/a-/AOh14GgLiO5i_xXRR_qAG77avSrsWiiI4KHJR6t4xysb=s64",
      "userId": "06313463015165663090"
     },
     "user_tz": -540
    },
    "id": "HoLSnIOUFA-O",
    "outputId": "69337048-cbe1-4dd9-a871-3d56897ea068"
   },
   "outputs": [
    {
     "data": {
      "text/html": [
       "<div>\n",
       "<style scoped>\n",
       "    .dataframe tbody tr th:only-of-type {\n",
       "        vertical-align: middle;\n",
       "    }\n",
       "\n",
       "    .dataframe tbody tr th {\n",
       "        vertical-align: top;\n",
       "    }\n",
       "\n",
       "    .dataframe thead th {\n",
       "        text-align: right;\n",
       "    }\n",
       "</style>\n",
       "<table border=\"1\" class=\"dataframe\">\n",
       "  <thead>\n",
       "    <tr style=\"text-align: right;\">\n",
       "      <th></th>\n",
       "      <th>날짜</th>\n",
       "      <th>종가</th>\n",
       "      <th>전일비</th>\n",
       "      <th>시가</th>\n",
       "      <th>고가</th>\n",
       "      <th>저가</th>\n",
       "      <th>거래량</th>\n",
       "    </tr>\n",
       "  </thead>\n",
       "  <tbody>\n",
       "    <tr>\n",
       "      <th>1</th>\n",
       "      <td>2021.03.16</td>\n",
       "      <td>110000.0</td>\n",
       "      <td>1000.0</td>\n",
       "      <td>111000.0</td>\n",
       "      <td>111500.0</td>\n",
       "      <td>109500.0</td>\n",
       "      <td>319703.0</td>\n",
       "    </tr>\n",
       "    <tr>\n",
       "      <th>2</th>\n",
       "      <td>2021.03.15</td>\n",
       "      <td>109000.0</td>\n",
       "      <td>500.0</td>\n",
       "      <td>109500.0</td>\n",
       "      <td>112500.0</td>\n",
       "      <td>108500.0</td>\n",
       "      <td>407201.0</td>\n",
       "    </tr>\n",
       "    <tr>\n",
       "      <th>3</th>\n",
       "      <td>2021.03.12</td>\n",
       "      <td>108500.0</td>\n",
       "      <td>2500.0</td>\n",
       "      <td>107500.0</td>\n",
       "      <td>110500.0</td>\n",
       "      <td>107000.0</td>\n",
       "      <td>414138.0</td>\n",
       "    </tr>\n",
       "    <tr>\n",
       "      <th>4</th>\n",
       "      <td>2021.03.11</td>\n",
       "      <td>106000.0</td>\n",
       "      <td>2000.0</td>\n",
       "      <td>104000.0</td>\n",
       "      <td>107000.0</td>\n",
       "      <td>103500.0</td>\n",
       "      <td>366145.0</td>\n",
       "    </tr>\n",
       "    <tr>\n",
       "      <th>5</th>\n",
       "      <td>2021.03.10</td>\n",
       "      <td>104000.0</td>\n",
       "      <td>4000.0</td>\n",
       "      <td>110000.0</td>\n",
       "      <td>110500.0</td>\n",
       "      <td>103500.0</td>\n",
       "      <td>508231.0</td>\n",
       "    </tr>\n",
       "    <tr>\n",
       "      <th>9</th>\n",
       "      <td>2021.03.09</td>\n",
       "      <td>108000.0</td>\n",
       "      <td>1500.0</td>\n",
       "      <td>107000.0</td>\n",
       "      <td>111000.0</td>\n",
       "      <td>105500.0</td>\n",
       "      <td>497927.0</td>\n",
       "    </tr>\n",
       "    <tr>\n",
       "      <th>10</th>\n",
       "      <td>2021.03.08</td>\n",
       "      <td>106500.0</td>\n",
       "      <td>3000.0</td>\n",
       "      <td>110000.0</td>\n",
       "      <td>113500.0</td>\n",
       "      <td>105500.0</td>\n",
       "      <td>540419.0</td>\n",
       "    </tr>\n",
       "    <tr>\n",
       "      <th>11</th>\n",
       "      <td>2021.03.05</td>\n",
       "      <td>109500.0</td>\n",
       "      <td>1000.0</td>\n",
       "      <td>110000.0</td>\n",
       "      <td>111000.0</td>\n",
       "      <td>105000.0</td>\n",
       "      <td>760269.0</td>\n",
       "    </tr>\n",
       "    <tr>\n",
       "      <th>12</th>\n",
       "      <td>2021.03.04</td>\n",
       "      <td>110500.0</td>\n",
       "      <td>4500.0</td>\n",
       "      <td>113500.0</td>\n",
       "      <td>114000.0</td>\n",
       "      <td>110000.0</td>\n",
       "      <td>656140.0</td>\n",
       "    </tr>\n",
       "    <tr>\n",
       "      <th>13</th>\n",
       "      <td>2021.03.03</td>\n",
       "      <td>115000.0</td>\n",
       "      <td>3000.0</td>\n",
       "      <td>114000.0</td>\n",
       "      <td>115000.0</td>\n",
       "      <td>111000.0</td>\n",
       "      <td>827873.0</td>\n",
       "    </tr>\n",
       "  </tbody>\n",
       "</table>\n",
       "</div>"
      ],
      "text/plain": [
       "            날짜        종가     전일비        시가        고가        저가       거래량\n",
       "1   2021.03.16  110000.0  1000.0  111000.0  111500.0  109500.0  319703.0\n",
       "2   2021.03.15  109000.0   500.0  109500.0  112500.0  108500.0  407201.0\n",
       "3   2021.03.12  108500.0  2500.0  107500.0  110500.0  107000.0  414138.0\n",
       "4   2021.03.11  106000.0  2000.0  104000.0  107000.0  103500.0  366145.0\n",
       "5   2021.03.10  104000.0  4000.0  110000.0  110500.0  103500.0  508231.0\n",
       "9   2021.03.09  108000.0  1500.0  107000.0  111000.0  105500.0  497927.0\n",
       "10  2021.03.08  106500.0  3000.0  110000.0  113500.0  105500.0  540419.0\n",
       "11  2021.03.05  109500.0  1000.0  110000.0  111000.0  105000.0  760269.0\n",
       "12  2021.03.04  110500.0  4500.0  113500.0  114000.0  110000.0  656140.0\n",
       "13  2021.03.03  115000.0  3000.0  114000.0  115000.0  111000.0  827873.0"
      ]
     },
     "execution_count": 43,
     "metadata": {
      "tags": []
     },
     "output_type": "execute_result"
    }
   ],
   "source": [
    "# html에서 찾은 table 태그를 pandas 로 읽어옵니다.\n",
    "table = pd.read_html(str(html_table))\n",
    "table[0].dropna()"
   ]
  },
  {
   "cell_type": "code",
   "execution_count": 44,
   "metadata": {
    "colab": {
     "base_uri": "https://localhost:8080/"
    },
    "executionInfo": {
     "elapsed": 913,
     "status": "ok",
     "timestamp": 1615877738396,
     "user": {
      "displayName": "todaycode오늘코드",
      "photoUrl": "https://lh3.googleusercontent.com/a-/AOh14GgLiO5i_xXRR_qAG77avSrsWiiI4KHJR6t4xysb=s64",
      "userId": "06313463015165663090"
     },
     "user_tz": -540
    },
    "id": "3oFu2Lr5DEIS",
    "outputId": "8739dd66-d63d-4ee4-c0ea-d94ba328d233"
   },
   "outputs": [
    {
     "data": {
      "text/plain": [
       "2"
      ]
     },
     "execution_count": 44,
     "metadata": {
      "tags": []
     },
     "output_type": "execute_result"
    }
   ],
   "source": [
    "# table = pd.read_html(url, encoding=\"cp949\")\n",
    "table = pd.read_html(str(html_table))\n",
    "len(table)"
   ]
  },
  {
   "cell_type": "code",
   "execution_count": 45,
   "metadata": {
    "colab": {
     "base_uri": "https://localhost:8080/",
     "height": 514
    },
    "executionInfo": {
     "elapsed": 1108,
     "status": "ok",
     "timestamp": 1615877741515,
     "user": {
      "displayName": "todaycode오늘코드",
      "photoUrl": "https://lh3.googleusercontent.com/a-/AOh14GgLiO5i_xXRR_qAG77avSrsWiiI4KHJR6t4xysb=s64",
      "userId": "06313463015165663090"
     },
     "user_tz": -540
    },
    "id": "oUAQbxGNDEIU",
    "outputId": "e831cb4b-efac-40f7-f5cc-5316e3068ab0"
   },
   "outputs": [
    {
     "data": {
      "text/html": [
       "<div>\n",
       "<style scoped>\n",
       "    .dataframe tbody tr th:only-of-type {\n",
       "        vertical-align: middle;\n",
       "    }\n",
       "\n",
       "    .dataframe tbody tr th {\n",
       "        vertical-align: top;\n",
       "    }\n",
       "\n",
       "    .dataframe thead th {\n",
       "        text-align: right;\n",
       "    }\n",
       "</style>\n",
       "<table border=\"1\" class=\"dataframe\">\n",
       "  <thead>\n",
       "    <tr style=\"text-align: right;\">\n",
       "      <th></th>\n",
       "      <th>날짜</th>\n",
       "      <th>종가</th>\n",
       "      <th>전일비</th>\n",
       "      <th>시가</th>\n",
       "      <th>고가</th>\n",
       "      <th>저가</th>\n",
       "      <th>거래량</th>\n",
       "    </tr>\n",
       "  </thead>\n",
       "  <tbody>\n",
       "    <tr>\n",
       "      <th>0</th>\n",
       "      <td>NaN</td>\n",
       "      <td>NaN</td>\n",
       "      <td>NaN</td>\n",
       "      <td>NaN</td>\n",
       "      <td>NaN</td>\n",
       "      <td>NaN</td>\n",
       "      <td>NaN</td>\n",
       "    </tr>\n",
       "    <tr>\n",
       "      <th>1</th>\n",
       "      <td>2021.03.16</td>\n",
       "      <td>110000.0</td>\n",
       "      <td>1000.0</td>\n",
       "      <td>111000.0</td>\n",
       "      <td>111500.0</td>\n",
       "      <td>109500.0</td>\n",
       "      <td>319703.0</td>\n",
       "    </tr>\n",
       "    <tr>\n",
       "      <th>2</th>\n",
       "      <td>2021.03.15</td>\n",
       "      <td>109000.0</td>\n",
       "      <td>500.0</td>\n",
       "      <td>109500.0</td>\n",
       "      <td>112500.0</td>\n",
       "      <td>108500.0</td>\n",
       "      <td>407201.0</td>\n",
       "    </tr>\n",
       "    <tr>\n",
       "      <th>3</th>\n",
       "      <td>2021.03.12</td>\n",
       "      <td>108500.0</td>\n",
       "      <td>2500.0</td>\n",
       "      <td>107500.0</td>\n",
       "      <td>110500.0</td>\n",
       "      <td>107000.0</td>\n",
       "      <td>414138.0</td>\n",
       "    </tr>\n",
       "    <tr>\n",
       "      <th>4</th>\n",
       "      <td>2021.03.11</td>\n",
       "      <td>106000.0</td>\n",
       "      <td>2000.0</td>\n",
       "      <td>104000.0</td>\n",
       "      <td>107000.0</td>\n",
       "      <td>103500.0</td>\n",
       "      <td>366145.0</td>\n",
       "    </tr>\n",
       "    <tr>\n",
       "      <th>5</th>\n",
       "      <td>2021.03.10</td>\n",
       "      <td>104000.0</td>\n",
       "      <td>4000.0</td>\n",
       "      <td>110000.0</td>\n",
       "      <td>110500.0</td>\n",
       "      <td>103500.0</td>\n",
       "      <td>508231.0</td>\n",
       "    </tr>\n",
       "    <tr>\n",
       "      <th>6</th>\n",
       "      <td>NaN</td>\n",
       "      <td>NaN</td>\n",
       "      <td>NaN</td>\n",
       "      <td>NaN</td>\n",
       "      <td>NaN</td>\n",
       "      <td>NaN</td>\n",
       "      <td>NaN</td>\n",
       "    </tr>\n",
       "    <tr>\n",
       "      <th>7</th>\n",
       "      <td>NaN</td>\n",
       "      <td>NaN</td>\n",
       "      <td>NaN</td>\n",
       "      <td>NaN</td>\n",
       "      <td>NaN</td>\n",
       "      <td>NaN</td>\n",
       "      <td>NaN</td>\n",
       "    </tr>\n",
       "    <tr>\n",
       "      <th>8</th>\n",
       "      <td>NaN</td>\n",
       "      <td>NaN</td>\n",
       "      <td>NaN</td>\n",
       "      <td>NaN</td>\n",
       "      <td>NaN</td>\n",
       "      <td>NaN</td>\n",
       "      <td>NaN</td>\n",
       "    </tr>\n",
       "    <tr>\n",
       "      <th>9</th>\n",
       "      <td>2021.03.09</td>\n",
       "      <td>108000.0</td>\n",
       "      <td>1500.0</td>\n",
       "      <td>107000.0</td>\n",
       "      <td>111000.0</td>\n",
       "      <td>105500.0</td>\n",
       "      <td>497927.0</td>\n",
       "    </tr>\n",
       "    <tr>\n",
       "      <th>10</th>\n",
       "      <td>2021.03.08</td>\n",
       "      <td>106500.0</td>\n",
       "      <td>3000.0</td>\n",
       "      <td>110000.0</td>\n",
       "      <td>113500.0</td>\n",
       "      <td>105500.0</td>\n",
       "      <td>540419.0</td>\n",
       "    </tr>\n",
       "    <tr>\n",
       "      <th>11</th>\n",
       "      <td>2021.03.05</td>\n",
       "      <td>109500.0</td>\n",
       "      <td>1000.0</td>\n",
       "      <td>110000.0</td>\n",
       "      <td>111000.0</td>\n",
       "      <td>105000.0</td>\n",
       "      <td>760269.0</td>\n",
       "    </tr>\n",
       "    <tr>\n",
       "      <th>12</th>\n",
       "      <td>2021.03.04</td>\n",
       "      <td>110500.0</td>\n",
       "      <td>4500.0</td>\n",
       "      <td>113500.0</td>\n",
       "      <td>114000.0</td>\n",
       "      <td>110000.0</td>\n",
       "      <td>656140.0</td>\n",
       "    </tr>\n",
       "    <tr>\n",
       "      <th>13</th>\n",
       "      <td>2021.03.03</td>\n",
       "      <td>115000.0</td>\n",
       "      <td>3000.0</td>\n",
       "      <td>114000.0</td>\n",
       "      <td>115000.0</td>\n",
       "      <td>111000.0</td>\n",
       "      <td>827873.0</td>\n",
       "    </tr>\n",
       "    <tr>\n",
       "      <th>14</th>\n",
       "      <td>NaN</td>\n",
       "      <td>NaN</td>\n",
       "      <td>NaN</td>\n",
       "      <td>NaN</td>\n",
       "      <td>NaN</td>\n",
       "      <td>NaN</td>\n",
       "      <td>NaN</td>\n",
       "    </tr>\n",
       "  </tbody>\n",
       "</table>\n",
       "</div>"
      ],
      "text/plain": [
       "            날짜        종가     전일비        시가        고가        저가       거래량\n",
       "0          NaN       NaN     NaN       NaN       NaN       NaN       NaN\n",
       "1   2021.03.16  110000.0  1000.0  111000.0  111500.0  109500.0  319703.0\n",
       "2   2021.03.15  109000.0   500.0  109500.0  112500.0  108500.0  407201.0\n",
       "3   2021.03.12  108500.0  2500.0  107500.0  110500.0  107000.0  414138.0\n",
       "4   2021.03.11  106000.0  2000.0  104000.0  107000.0  103500.0  366145.0\n",
       "5   2021.03.10  104000.0  4000.0  110000.0  110500.0  103500.0  508231.0\n",
       "6          NaN       NaN     NaN       NaN       NaN       NaN       NaN\n",
       "7          NaN       NaN     NaN       NaN       NaN       NaN       NaN\n",
       "8          NaN       NaN     NaN       NaN       NaN       NaN       NaN\n",
       "9   2021.03.09  108000.0  1500.0  107000.0  111000.0  105500.0  497927.0\n",
       "10  2021.03.08  106500.0  3000.0  110000.0  113500.0  105500.0  540419.0\n",
       "11  2021.03.05  109500.0  1000.0  110000.0  111000.0  105000.0  760269.0\n",
       "12  2021.03.04  110500.0  4500.0  113500.0  114000.0  110000.0  656140.0\n",
       "13  2021.03.03  115000.0  3000.0  114000.0  115000.0  111000.0  827873.0\n",
       "14         NaN       NaN     NaN       NaN       NaN       NaN       NaN"
      ]
     },
     "execution_count": 45,
     "metadata": {
      "tags": []
     },
     "output_type": "execute_result"
    }
   ],
   "source": [
    "table[0]"
   ]
  },
  {
   "cell_type": "code",
   "execution_count": 46,
   "metadata": {
    "colab": {
     "base_uri": "https://localhost:8080/",
     "height": 359
    },
    "executionInfo": {
     "elapsed": 811,
     "status": "ok",
     "timestamp": 1615877744890,
     "user": {
      "displayName": "todaycode오늘코드",
      "photoUrl": "https://lh3.googleusercontent.com/a-/AOh14GgLiO5i_xXRR_qAG77avSrsWiiI4KHJR6t4xysb=s64",
      "userId": "06313463015165663090"
     },
     "user_tz": -540
    },
    "id": "CALASsl_DEIX",
    "outputId": "65ec6f77-eeb4-4ff9-8425-1bb222495037"
   },
   "outputs": [
    {
     "data": {
      "text/html": [
       "<div>\n",
       "<style scoped>\n",
       "    .dataframe tbody tr th:only-of-type {\n",
       "        vertical-align: middle;\n",
       "    }\n",
       "\n",
       "    .dataframe tbody tr th {\n",
       "        vertical-align: top;\n",
       "    }\n",
       "\n",
       "    .dataframe thead th {\n",
       "        text-align: right;\n",
       "    }\n",
       "</style>\n",
       "<table border=\"1\" class=\"dataframe\">\n",
       "  <thead>\n",
       "    <tr style=\"text-align: right;\">\n",
       "      <th></th>\n",
       "      <th>날짜</th>\n",
       "      <th>종가</th>\n",
       "      <th>전일비</th>\n",
       "      <th>시가</th>\n",
       "      <th>고가</th>\n",
       "      <th>저가</th>\n",
       "      <th>거래량</th>\n",
       "    </tr>\n",
       "  </thead>\n",
       "  <tbody>\n",
       "    <tr>\n",
       "      <th>1</th>\n",
       "      <td>2021.03.16</td>\n",
       "      <td>110000.0</td>\n",
       "      <td>1000.0</td>\n",
       "      <td>111000.0</td>\n",
       "      <td>111500.0</td>\n",
       "      <td>109500.0</td>\n",
       "      <td>319703.0</td>\n",
       "    </tr>\n",
       "    <tr>\n",
       "      <th>2</th>\n",
       "      <td>2021.03.15</td>\n",
       "      <td>109000.0</td>\n",
       "      <td>500.0</td>\n",
       "      <td>109500.0</td>\n",
       "      <td>112500.0</td>\n",
       "      <td>108500.0</td>\n",
       "      <td>407201.0</td>\n",
       "    </tr>\n",
       "    <tr>\n",
       "      <th>3</th>\n",
       "      <td>2021.03.12</td>\n",
       "      <td>108500.0</td>\n",
       "      <td>2500.0</td>\n",
       "      <td>107500.0</td>\n",
       "      <td>110500.0</td>\n",
       "      <td>107000.0</td>\n",
       "      <td>414138.0</td>\n",
       "    </tr>\n",
       "    <tr>\n",
       "      <th>4</th>\n",
       "      <td>2021.03.11</td>\n",
       "      <td>106000.0</td>\n",
       "      <td>2000.0</td>\n",
       "      <td>104000.0</td>\n",
       "      <td>107000.0</td>\n",
       "      <td>103500.0</td>\n",
       "      <td>366145.0</td>\n",
       "    </tr>\n",
       "    <tr>\n",
       "      <th>5</th>\n",
       "      <td>2021.03.10</td>\n",
       "      <td>104000.0</td>\n",
       "      <td>4000.0</td>\n",
       "      <td>110000.0</td>\n",
       "      <td>110500.0</td>\n",
       "      <td>103500.0</td>\n",
       "      <td>508231.0</td>\n",
       "    </tr>\n",
       "    <tr>\n",
       "      <th>9</th>\n",
       "      <td>2021.03.09</td>\n",
       "      <td>108000.0</td>\n",
       "      <td>1500.0</td>\n",
       "      <td>107000.0</td>\n",
       "      <td>111000.0</td>\n",
       "      <td>105500.0</td>\n",
       "      <td>497927.0</td>\n",
       "    </tr>\n",
       "    <tr>\n",
       "      <th>10</th>\n",
       "      <td>2021.03.08</td>\n",
       "      <td>106500.0</td>\n",
       "      <td>3000.0</td>\n",
       "      <td>110000.0</td>\n",
       "      <td>113500.0</td>\n",
       "      <td>105500.0</td>\n",
       "      <td>540419.0</td>\n",
       "    </tr>\n",
       "    <tr>\n",
       "      <th>11</th>\n",
       "      <td>2021.03.05</td>\n",
       "      <td>109500.0</td>\n",
       "      <td>1000.0</td>\n",
       "      <td>110000.0</td>\n",
       "      <td>111000.0</td>\n",
       "      <td>105000.0</td>\n",
       "      <td>760269.0</td>\n",
       "    </tr>\n",
       "    <tr>\n",
       "      <th>12</th>\n",
       "      <td>2021.03.04</td>\n",
       "      <td>110500.0</td>\n",
       "      <td>4500.0</td>\n",
       "      <td>113500.0</td>\n",
       "      <td>114000.0</td>\n",
       "      <td>110000.0</td>\n",
       "      <td>656140.0</td>\n",
       "    </tr>\n",
       "    <tr>\n",
       "      <th>13</th>\n",
       "      <td>2021.03.03</td>\n",
       "      <td>115000.0</td>\n",
       "      <td>3000.0</td>\n",
       "      <td>114000.0</td>\n",
       "      <td>115000.0</td>\n",
       "      <td>111000.0</td>\n",
       "      <td>827873.0</td>\n",
       "    </tr>\n",
       "  </tbody>\n",
       "</table>\n",
       "</div>"
      ],
      "text/plain": [
       "            날짜        종가     전일비        시가        고가        저가       거래량\n",
       "1   2021.03.16  110000.0  1000.0  111000.0  111500.0  109500.0  319703.0\n",
       "2   2021.03.15  109000.0   500.0  109500.0  112500.0  108500.0  407201.0\n",
       "3   2021.03.12  108500.0  2500.0  107500.0  110500.0  107000.0  414138.0\n",
       "4   2021.03.11  106000.0  2000.0  104000.0  107000.0  103500.0  366145.0\n",
       "5   2021.03.10  104000.0  4000.0  110000.0  110500.0  103500.0  508231.0\n",
       "9   2021.03.09  108000.0  1500.0  107000.0  111000.0  105500.0  497927.0\n",
       "10  2021.03.08  106500.0  3000.0  110000.0  113500.0  105500.0  540419.0\n",
       "11  2021.03.05  109500.0  1000.0  110000.0  111000.0  105000.0  760269.0\n",
       "12  2021.03.04  110500.0  4500.0  113500.0  114000.0  110000.0  656140.0\n",
       "13  2021.03.03  115000.0  3000.0  114000.0  115000.0  111000.0  827873.0"
      ]
     },
     "execution_count": 46,
     "metadata": {
      "tags": []
     },
     "output_type": "execute_result"
    }
   ],
   "source": [
    "df = table[0].dropna()\n",
    "df"
   ]
  },
  {
   "cell_type": "markdown",
   "metadata": {
    "id": "7_vatc7XDEIZ"
   },
   "source": [
    "## 페이지별 데이터 수집 함수 만들기"
   ]
  },
  {
   "cell_type": "code",
   "execution_count": 19,
   "metadata": {
    "executionInfo": {
     "elapsed": 917,
     "status": "ok",
     "timestamp": 1615877666474,
     "user": {
      "displayName": "todaycode오늘코드",
      "photoUrl": "https://lh3.googleusercontent.com/a-/AOh14GgLiO5i_xXRR_qAG77avSrsWiiI4KHJR6t4xysb=s64",
      "userId": "06313463015165663090"
     },
     "user_tz": -540
    },
    "id": "II4B5ObbDEIa"
   },
   "outputs": [],
   "source": [
    "def get_day_list(item_code, page_no):\n",
    "    \"\"\"\n",
    "    일자별 시세를 페이지별로 수집\n",
    "    \"\"\"\n",
    "    url = f\"https://finance.naver.com/item/sise_day.nhn?code={item_code}&page={page_no}\"\n",
    "\n",
    "    headers = {'user-agent': 'Mozilla/5.0 (Macintosh; Intel Mac OS X 10_15_7) AppleWebKit/537.36 (KHTML, like Gecko) Chrome/88.0.4324.96 Safari/537.36'}\n",
    "\n",
    "    response = requests.get(url, headers=headers)\n",
    "    html = bs(response.text, \"lxml\")\n",
    "    table = html.select(\"table\")\n",
    "    table = pd.read_html(str(table))\n",
    "    df_day = table[0].dropna()\n",
    "    return df_day"
   ]
  },
  {
   "cell_type": "code",
   "execution_count": 20,
   "metadata": {
    "colab": {
     "base_uri": "https://localhost:8080/",
     "height": 359
    },
    "executionInfo": {
     "elapsed": 1100,
     "status": "ok",
     "timestamp": 1615877668050,
     "user": {
      "displayName": "todaycode오늘코드",
      "photoUrl": "https://lh3.googleusercontent.com/a-/AOh14GgLiO5i_xXRR_qAG77avSrsWiiI4KHJR6t4xysb=s64",
      "userId": "06313463015165663090"
     },
     "user_tz": -540
    },
    "id": "WigBQatUDEId",
    "outputId": "ccd81c1d-444a-4edb-84e1-16acc4e6273b"
   },
   "outputs": [
    {
     "data": {
      "text/html": [
       "<div>\n",
       "<style scoped>\n",
       "    .dataframe tbody tr th:only-of-type {\n",
       "        vertical-align: middle;\n",
       "    }\n",
       "\n",
       "    .dataframe tbody tr th {\n",
       "        vertical-align: top;\n",
       "    }\n",
       "\n",
       "    .dataframe thead th {\n",
       "        text-align: right;\n",
       "    }\n",
       "</style>\n",
       "<table border=\"1\" class=\"dataframe\">\n",
       "  <thead>\n",
       "    <tr style=\"text-align: right;\">\n",
       "      <th></th>\n",
       "      <th>날짜</th>\n",
       "      <th>종가</th>\n",
       "      <th>전일비</th>\n",
       "      <th>시가</th>\n",
       "      <th>고가</th>\n",
       "      <th>저가</th>\n",
       "      <th>거래량</th>\n",
       "    </tr>\n",
       "  </thead>\n",
       "  <tbody>\n",
       "    <tr>\n",
       "      <th>1</th>\n",
       "      <td>2021.02.15</td>\n",
       "      <td>152000.0</td>\n",
       "      <td>500.0</td>\n",
       "      <td>153000.0</td>\n",
       "      <td>153500.0</td>\n",
       "      <td>151000.0</td>\n",
       "      <td>149945.0</td>\n",
       "    </tr>\n",
       "    <tr>\n",
       "      <th>2</th>\n",
       "      <td>2021.02.10</td>\n",
       "      <td>152500.0</td>\n",
       "      <td>3000.0</td>\n",
       "      <td>149500.0</td>\n",
       "      <td>153000.0</td>\n",
       "      <td>149000.0</td>\n",
       "      <td>441432.0</td>\n",
       "    </tr>\n",
       "    <tr>\n",
       "      <th>3</th>\n",
       "      <td>2021.02.09</td>\n",
       "      <td>149500.0</td>\n",
       "      <td>0.0</td>\n",
       "      <td>150000.0</td>\n",
       "      <td>150500.0</td>\n",
       "      <td>148500.0</td>\n",
       "      <td>211201.0</td>\n",
       "    </tr>\n",
       "    <tr>\n",
       "      <th>4</th>\n",
       "      <td>2021.02.08</td>\n",
       "      <td>149500.0</td>\n",
       "      <td>500.0</td>\n",
       "      <td>149000.0</td>\n",
       "      <td>150000.0</td>\n",
       "      <td>148000.0</td>\n",
       "      <td>171881.0</td>\n",
       "    </tr>\n",
       "    <tr>\n",
       "      <th>5</th>\n",
       "      <td>2021.02.05</td>\n",
       "      <td>149000.0</td>\n",
       "      <td>500.0</td>\n",
       "      <td>150500.0</td>\n",
       "      <td>151000.0</td>\n",
       "      <td>148500.0</td>\n",
       "      <td>145785.0</td>\n",
       "    </tr>\n",
       "    <tr>\n",
       "      <th>9</th>\n",
       "      <td>2021.02.04</td>\n",
       "      <td>149500.0</td>\n",
       "      <td>0.0</td>\n",
       "      <td>149500.0</td>\n",
       "      <td>149500.0</td>\n",
       "      <td>147500.0</td>\n",
       "      <td>128877.0</td>\n",
       "    </tr>\n",
       "    <tr>\n",
       "      <th>10</th>\n",
       "      <td>2021.02.03</td>\n",
       "      <td>149500.0</td>\n",
       "      <td>0.0</td>\n",
       "      <td>149500.0</td>\n",
       "      <td>150000.0</td>\n",
       "      <td>147000.0</td>\n",
       "      <td>205471.0</td>\n",
       "    </tr>\n",
       "    <tr>\n",
       "      <th>11</th>\n",
       "      <td>2021.02.02</td>\n",
       "      <td>149500.0</td>\n",
       "      <td>500.0</td>\n",
       "      <td>150500.0</td>\n",
       "      <td>150500.0</td>\n",
       "      <td>149000.0</td>\n",
       "      <td>191541.0</td>\n",
       "    </tr>\n",
       "    <tr>\n",
       "      <th>12</th>\n",
       "      <td>2021.02.01</td>\n",
       "      <td>149000.0</td>\n",
       "      <td>4000.0</td>\n",
       "      <td>147500.0</td>\n",
       "      <td>151000.0</td>\n",
       "      <td>145500.0</td>\n",
       "      <td>319412.0</td>\n",
       "    </tr>\n",
       "    <tr>\n",
       "      <th>13</th>\n",
       "      <td>2021.01.29</td>\n",
       "      <td>145000.0</td>\n",
       "      <td>3000.0</td>\n",
       "      <td>149000.0</td>\n",
       "      <td>149500.0</td>\n",
       "      <td>144500.0</td>\n",
       "      <td>256485.0</td>\n",
       "    </tr>\n",
       "  </tbody>\n",
       "</table>\n",
       "</div>"
      ],
      "text/plain": [
       "            날짜        종가     전일비        시가        고가        저가       거래량\n",
       "1   2021.02.15  152000.0   500.0  153000.0  153500.0  151000.0  149945.0\n",
       "2   2021.02.10  152500.0  3000.0  149500.0  153000.0  149000.0  441432.0\n",
       "3   2021.02.09  149500.0     0.0  150000.0  150500.0  148500.0  211201.0\n",
       "4   2021.02.08  149500.0   500.0  149000.0  150000.0  148000.0  171881.0\n",
       "5   2021.02.05  149000.0   500.0  150500.0  151000.0  148500.0  145785.0\n",
       "9   2021.02.04  149500.0     0.0  149500.0  149500.0  147500.0  128877.0\n",
       "10  2021.02.03  149500.0     0.0  149500.0  150000.0  147000.0  205471.0\n",
       "11  2021.02.02  149500.0   500.0  150500.0  150500.0  149000.0  191541.0\n",
       "12  2021.02.01  149000.0  4000.0  147500.0  151000.0  145500.0  319412.0\n",
       "13  2021.01.29  145000.0  3000.0  149000.0  149500.0  144500.0  256485.0"
      ]
     },
     "execution_count": 20,
     "metadata": {
      "tags": []
     },
     "output_type": "execute_result"
    }
   ],
   "source": [
    "# 함수가 잘 만들어졌는지 확인하기\n",
    "page_no = 3\n",
    "get_day_list(item_code, page_no)"
   ]
  },
  {
   "cell_type": "markdown",
   "metadata": {
    "id": "PUyAiOk1DEIf"
   },
   "source": [
    "## 반복문을 통한 전체 일자 데이터 수집하기\n",
    "* (주의) 기간이 긴 데이터를 수집할때는 서버에 부담을 주지 않기 위해 time.sleep()값을 좀 2~3초 정도로 좀 더 길게 주세요. "
   ]
  },
  {
   "cell_type": "code",
   "execution_count": 21,
   "metadata": {
    "colab": {
     "base_uri": "https://localhost:8080/"
    },
    "executionInfo": {
     "elapsed": 1063,
     "status": "ok",
     "timestamp": 1615877670798,
     "user": {
      "displayName": "todaycode오늘코드",
      "photoUrl": "https://lh3.googleusercontent.com/a-/AOh14GgLiO5i_xXRR_qAG77avSrsWiiI4KHJR6t4xysb=s64",
      "userId": "06313463015165663090"
     },
     "user_tz": -540
    },
    "id": "L6_8FfgvGW8A",
    "outputId": "0d137a52-e832-4a2b-9fba-daccab00dfb7"
   },
   "outputs": [
    {
     "name": "stdout",
     "output_type": "stream",
     "text": [
      "4\n",
      "5\n",
      "6\n",
      "7\n",
      "8\n",
      "9\n",
      "10\n",
      "11\n"
     ]
    }
   ],
   "source": [
    "while True:\n",
    "    page_no += 1\n",
    "    print(page_no)\n",
    "    if page_no > 10:\n",
    "        break"
   ]
  },
  {
   "cell_type": "code",
   "execution_count": 22,
   "metadata": {
    "executionInfo": {
     "elapsed": 14530,
     "status": "ok",
     "timestamp": 1615877685151,
     "user": {
      "displayName": "todaycode오늘코드",
      "photoUrl": "https://lh3.googleusercontent.com/a-/AOh14GgLiO5i_xXRR_qAG77avSrsWiiI4KHJR6t4xysb=s64",
      "userId": "06313463015165663090"
     },
     "user_tz": -540
    },
    "id": "tFdHKC9lDEIg"
   },
   "outputs": [],
   "source": [
    "import time\n",
    "page_no = 1\n",
    "item_list = []\n",
    "\n",
    "while True:\n",
    "    df_day = get_day_list(item_code, page_no)\n",
    "    page_no += 1\n",
    "    item_list.append(df_day)\n",
    "    time.sleep(0.5)\n",
    "    if len(df_day) != 10:\n",
    "        break"
   ]
  },
  {
   "cell_type": "markdown",
   "metadata": {
    "id": "SHE-8mM-DEIi"
   },
   "source": [
    "## 수집한 데이터 하나의 데이터프레임으로 합치기"
   ]
  },
  {
   "cell_type": "code",
   "execution_count": 23,
   "metadata": {
    "colab": {
     "base_uri": "https://localhost:8080/"
    },
    "executionInfo": {
     "elapsed": 12239,
     "status": "ok",
     "timestamp": 1615877685251,
     "user": {
      "displayName": "todaycode오늘코드",
      "photoUrl": "https://lh3.googleusercontent.com/a-/AOh14GgLiO5i_xXRR_qAG77avSrsWiiI4KHJR6t4xysb=s64",
      "userId": "06313463015165663090"
     },
     "user_tz": -540
    },
    "id": "_MuAojJVG6pi",
    "outputId": "d9551beb-deed-4ea4-c0bd-0056cad5edcd"
   },
   "outputs": [
    {
     "data": {
      "text/plain": [
       "18"
      ]
     },
     "execution_count": 23,
     "metadata": {
      "tags": []
     },
     "output_type": "execute_result"
    }
   ],
   "source": [
    "len(item_list)"
   ]
  },
  {
   "cell_type": "code",
   "execution_count": 24,
   "metadata": {
    "colab": {
     "base_uri": "https://localhost:8080/"
    },
    "executionInfo": {
     "elapsed": 11539,
     "status": "ok",
     "timestamp": 1615877685253,
     "user": {
      "displayName": "todaycode오늘코드",
      "photoUrl": "https://lh3.googleusercontent.com/a-/AOh14GgLiO5i_xXRR_qAG77avSrsWiiI4KHJR6t4xysb=s64",
      "userId": "06313463015165663090"
     },
     "user_tz": -540
    },
    "id": "Wk2MocG1DEIi",
    "outputId": "405a6350-f8f2-46fe-8323-b5ccaca7f800"
   },
   "outputs": [
    {
     "data": {
      "text/plain": [
       "(173, 7)"
      ]
     },
     "execution_count": 24,
     "metadata": {
      "tags": []
     },
     "output_type": "execute_result"
    }
   ],
   "source": [
    "df = pd.concat(item_list)\n",
    "df.shape"
   ]
  },
  {
   "cell_type": "code",
   "execution_count": 25,
   "metadata": {
    "colab": {
     "base_uri": "https://localhost:8080/",
     "height": 204
    },
    "executionInfo": {
     "elapsed": 10993,
     "status": "ok",
     "timestamp": 1615877685254,
     "user": {
      "displayName": "todaycode오늘코드",
      "photoUrl": "https://lh3.googleusercontent.com/a-/AOh14GgLiO5i_xXRR_qAG77avSrsWiiI4KHJR6t4xysb=s64",
      "userId": "06313463015165663090"
     },
     "user_tz": -540
    },
    "id": "1nZWSd27DEIl",
    "outputId": "f6f02781-a5f6-47b7-d6e7-160620ca6e48"
   },
   "outputs": [
    {
     "data": {
      "text/html": [
       "<div>\n",
       "<style scoped>\n",
       "    .dataframe tbody tr th:only-of-type {\n",
       "        vertical-align: middle;\n",
       "    }\n",
       "\n",
       "    .dataframe tbody tr th {\n",
       "        vertical-align: top;\n",
       "    }\n",
       "\n",
       "    .dataframe thead th {\n",
       "        text-align: right;\n",
       "    }\n",
       "</style>\n",
       "<table border=\"1\" class=\"dataframe\">\n",
       "  <thead>\n",
       "    <tr style=\"text-align: right;\">\n",
       "      <th></th>\n",
       "      <th>날짜</th>\n",
       "      <th>종가</th>\n",
       "      <th>전일비</th>\n",
       "      <th>시가</th>\n",
       "      <th>고가</th>\n",
       "      <th>저가</th>\n",
       "      <th>거래량</th>\n",
       "    </tr>\n",
       "  </thead>\n",
       "  <tbody>\n",
       "    <tr>\n",
       "      <th>1</th>\n",
       "      <td>2021.03.16</td>\n",
       "      <td>110000.0</td>\n",
       "      <td>1000.0</td>\n",
       "      <td>111000.0</td>\n",
       "      <td>111500.0</td>\n",
       "      <td>109500.0</td>\n",
       "      <td>319705.0</td>\n",
       "    </tr>\n",
       "    <tr>\n",
       "      <th>2</th>\n",
       "      <td>2021.03.15</td>\n",
       "      <td>109000.0</td>\n",
       "      <td>500.0</td>\n",
       "      <td>109500.0</td>\n",
       "      <td>112500.0</td>\n",
       "      <td>108500.0</td>\n",
       "      <td>407201.0</td>\n",
       "    </tr>\n",
       "    <tr>\n",
       "      <th>3</th>\n",
       "      <td>2021.03.12</td>\n",
       "      <td>108500.0</td>\n",
       "      <td>2500.0</td>\n",
       "      <td>107500.0</td>\n",
       "      <td>110500.0</td>\n",
       "      <td>107000.0</td>\n",
       "      <td>414138.0</td>\n",
       "    </tr>\n",
       "    <tr>\n",
       "      <th>4</th>\n",
       "      <td>2021.03.11</td>\n",
       "      <td>106000.0</td>\n",
       "      <td>2000.0</td>\n",
       "      <td>104000.0</td>\n",
       "      <td>107000.0</td>\n",
       "      <td>103500.0</td>\n",
       "      <td>366145.0</td>\n",
       "    </tr>\n",
       "    <tr>\n",
       "      <th>5</th>\n",
       "      <td>2021.03.10</td>\n",
       "      <td>104000.0</td>\n",
       "      <td>4000.0</td>\n",
       "      <td>110000.0</td>\n",
       "      <td>110500.0</td>\n",
       "      <td>103500.0</td>\n",
       "      <td>508231.0</td>\n",
       "    </tr>\n",
       "  </tbody>\n",
       "</table>\n",
       "</div>"
      ],
      "text/plain": [
       "           날짜        종가     전일비        시가        고가        저가       거래량\n",
       "1  2021.03.16  110000.0  1000.0  111000.0  111500.0  109500.0  319705.0\n",
       "2  2021.03.15  109000.0   500.0  109500.0  112500.0  108500.0  407201.0\n",
       "3  2021.03.12  108500.0  2500.0  107500.0  110500.0  107000.0  414138.0\n",
       "4  2021.03.11  106000.0  2000.0  104000.0  107000.0  103500.0  366145.0\n",
       "5  2021.03.10  104000.0  4000.0  110000.0  110500.0  103500.0  508231.0"
      ]
     },
     "execution_count": 25,
     "metadata": {
      "tags": []
     },
     "output_type": "execute_result"
    }
   ],
   "source": [
    "df.head()"
   ]
  },
  {
   "cell_type": "code",
   "execution_count": 26,
   "metadata": {
    "colab": {
     "base_uri": "https://localhost:8080/",
     "height": 204
    },
    "executionInfo": {
     "elapsed": 10401,
     "status": "ok",
     "timestamp": 1615877685255,
     "user": {
      "displayName": "todaycode오늘코드",
      "photoUrl": "https://lh3.googleusercontent.com/a-/AOh14GgLiO5i_xXRR_qAG77avSrsWiiI4KHJR6t4xysb=s64",
      "userId": "06313463015165663090"
     },
     "user_tz": -540
    },
    "id": "FiBdnxHdDEIn",
    "outputId": "0d6cabbd-cab1-49c9-93cc-868b44df9ceb"
   },
   "outputs": [
    {
     "data": {
      "text/html": [
       "<div>\n",
       "<style scoped>\n",
       "    .dataframe tbody tr th:only-of-type {\n",
       "        vertical-align: middle;\n",
       "    }\n",
       "\n",
       "    .dataframe tbody tr th {\n",
       "        vertical-align: top;\n",
       "    }\n",
       "\n",
       "    .dataframe thead th {\n",
       "        text-align: right;\n",
       "    }\n",
       "</style>\n",
       "<table border=\"1\" class=\"dataframe\">\n",
       "  <thead>\n",
       "    <tr style=\"text-align: right;\">\n",
       "      <th></th>\n",
       "      <th>날짜</th>\n",
       "      <th>종가</th>\n",
       "      <th>전일비</th>\n",
       "      <th>시가</th>\n",
       "      <th>고가</th>\n",
       "      <th>저가</th>\n",
       "      <th>거래량</th>\n",
       "    </tr>\n",
       "  </thead>\n",
       "  <tbody>\n",
       "    <tr>\n",
       "      <th>12</th>\n",
       "      <td>2020.07.08</td>\n",
       "      <td>217000.0</td>\n",
       "      <td>500.0</td>\n",
       "      <td>214500.0</td>\n",
       "      <td>225000.0</td>\n",
       "      <td>198000.0</td>\n",
       "      <td>5990009.0</td>\n",
       "    </tr>\n",
       "    <tr>\n",
       "      <th>13</th>\n",
       "      <td>2020.07.07</td>\n",
       "      <td>216500.0</td>\n",
       "      <td>2000.0</td>\n",
       "      <td>219000.0</td>\n",
       "      <td>269500.0</td>\n",
       "      <td>210000.0</td>\n",
       "      <td>10105187.0</td>\n",
       "    </tr>\n",
       "    <tr>\n",
       "      <th>1</th>\n",
       "      <td>2020.07.06</td>\n",
       "      <td>214500.0</td>\n",
       "      <td>49500.0</td>\n",
       "      <td>214500.0</td>\n",
       "      <td>214500.0</td>\n",
       "      <td>193500.0</td>\n",
       "      <td>7126211.0</td>\n",
       "    </tr>\n",
       "    <tr>\n",
       "      <th>2</th>\n",
       "      <td>2020.07.03</td>\n",
       "      <td>165000.0</td>\n",
       "      <td>38000.0</td>\n",
       "      <td>165000.0</td>\n",
       "      <td>165000.0</td>\n",
       "      <td>165000.0</td>\n",
       "      <td>711921.0</td>\n",
       "    </tr>\n",
       "    <tr>\n",
       "      <th>3</th>\n",
       "      <td>2020.07.02</td>\n",
       "      <td>127000.0</td>\n",
       "      <td>29000.0</td>\n",
       "      <td>98000.0</td>\n",
       "      <td>127000.0</td>\n",
       "      <td>98000.0</td>\n",
       "      <td>698642.0</td>\n",
       "    </tr>\n",
       "  </tbody>\n",
       "</table>\n",
       "</div>"
      ],
      "text/plain": [
       "            날짜        종가      전일비        시가        고가        저가         거래량\n",
       "12  2020.07.08  217000.0    500.0  214500.0  225000.0  198000.0   5990009.0\n",
       "13  2020.07.07  216500.0   2000.0  219000.0  269500.0  210000.0  10105187.0\n",
       "1   2020.07.06  214500.0  49500.0  214500.0  214500.0  193500.0   7126211.0\n",
       "2   2020.07.03  165000.0  38000.0  165000.0  165000.0  165000.0    711921.0\n",
       "3   2020.07.02  127000.0  29000.0   98000.0  127000.0   98000.0    698642.0"
      ]
     },
     "execution_count": 26,
     "metadata": {
      "tags": []
     },
     "output_type": "execute_result"
    }
   ],
   "source": [
    "df.tail()"
   ]
  },
  {
   "cell_type": "markdown",
   "metadata": {
    "id": "-CmT1GuFDEIp"
   },
   "source": [
    "## 데이터프레임에 종목코드와 종목명을 추가하기"
   ]
  },
  {
   "cell_type": "code",
   "execution_count": 27,
   "metadata": {
    "executionInfo": {
     "elapsed": 9243,
     "status": "ok",
     "timestamp": 1615877685256,
     "user": {
      "displayName": "todaycode오늘코드",
      "photoUrl": "https://lh3.googleusercontent.com/a-/AOh14GgLiO5i_xXRR_qAG77avSrsWiiI4KHJR6t4xysb=s64",
      "userId": "06313463015165663090"
     },
     "user_tz": -540
    },
    "id": "WLfFJCsmDEIq"
   },
   "outputs": [],
   "source": [
    "df[\"종목코드\"] = item_code\n",
    "df[\"종목명\"] = item_name"
   ]
  },
  {
   "cell_type": "code",
   "execution_count": 28,
   "metadata": {
    "colab": {
     "base_uri": "https://localhost:8080/",
     "height": 204
    },
    "executionInfo": {
     "elapsed": 8829,
     "status": "ok",
     "timestamp": 1615877685257,
     "user": {
      "displayName": "todaycode오늘코드",
      "photoUrl": "https://lh3.googleusercontent.com/a-/AOh14GgLiO5i_xXRR_qAG77avSrsWiiI4KHJR6t4xysb=s64",
      "userId": "06313463015165663090"
     },
     "user_tz": -540
    },
    "id": "qp57NHQhDEIt",
    "outputId": "7c5a6a7d-8995-4a43-d97e-0e8d8759ee5a"
   },
   "outputs": [
    {
     "data": {
      "text/html": [
       "<div>\n",
       "<style scoped>\n",
       "    .dataframe tbody tr th:only-of-type {\n",
       "        vertical-align: middle;\n",
       "    }\n",
       "\n",
       "    .dataframe tbody tr th {\n",
       "        vertical-align: top;\n",
       "    }\n",
       "\n",
       "    .dataframe thead th {\n",
       "        text-align: right;\n",
       "    }\n",
       "</style>\n",
       "<table border=\"1\" class=\"dataframe\">\n",
       "  <thead>\n",
       "    <tr style=\"text-align: right;\">\n",
       "      <th></th>\n",
       "      <th>날짜</th>\n",
       "      <th>종가</th>\n",
       "      <th>전일비</th>\n",
       "      <th>시가</th>\n",
       "      <th>고가</th>\n",
       "      <th>저가</th>\n",
       "      <th>거래량</th>\n",
       "      <th>종목코드</th>\n",
       "      <th>종목명</th>\n",
       "    </tr>\n",
       "  </thead>\n",
       "  <tbody>\n",
       "    <tr>\n",
       "      <th>1</th>\n",
       "      <td>2021.03.16</td>\n",
       "      <td>110000.0</td>\n",
       "      <td>1000.0</td>\n",
       "      <td>111000.0</td>\n",
       "      <td>111500.0</td>\n",
       "      <td>109500.0</td>\n",
       "      <td>319705.0</td>\n",
       "      <td>326030</td>\n",
       "      <td>SK바이오팜</td>\n",
       "    </tr>\n",
       "    <tr>\n",
       "      <th>2</th>\n",
       "      <td>2021.03.15</td>\n",
       "      <td>109000.0</td>\n",
       "      <td>500.0</td>\n",
       "      <td>109500.0</td>\n",
       "      <td>112500.0</td>\n",
       "      <td>108500.0</td>\n",
       "      <td>407201.0</td>\n",
       "      <td>326030</td>\n",
       "      <td>SK바이오팜</td>\n",
       "    </tr>\n",
       "    <tr>\n",
       "      <th>3</th>\n",
       "      <td>2021.03.12</td>\n",
       "      <td>108500.0</td>\n",
       "      <td>2500.0</td>\n",
       "      <td>107500.0</td>\n",
       "      <td>110500.0</td>\n",
       "      <td>107000.0</td>\n",
       "      <td>414138.0</td>\n",
       "      <td>326030</td>\n",
       "      <td>SK바이오팜</td>\n",
       "    </tr>\n",
       "    <tr>\n",
       "      <th>4</th>\n",
       "      <td>2021.03.11</td>\n",
       "      <td>106000.0</td>\n",
       "      <td>2000.0</td>\n",
       "      <td>104000.0</td>\n",
       "      <td>107000.0</td>\n",
       "      <td>103500.0</td>\n",
       "      <td>366145.0</td>\n",
       "      <td>326030</td>\n",
       "      <td>SK바이오팜</td>\n",
       "    </tr>\n",
       "    <tr>\n",
       "      <th>5</th>\n",
       "      <td>2021.03.10</td>\n",
       "      <td>104000.0</td>\n",
       "      <td>4000.0</td>\n",
       "      <td>110000.0</td>\n",
       "      <td>110500.0</td>\n",
       "      <td>103500.0</td>\n",
       "      <td>508231.0</td>\n",
       "      <td>326030</td>\n",
       "      <td>SK바이오팜</td>\n",
       "    </tr>\n",
       "  </tbody>\n",
       "</table>\n",
       "</div>"
      ],
      "text/plain": [
       "           날짜        종가     전일비        시가  ...        저가       거래량    종목코드     종목명\n",
       "1  2021.03.16  110000.0  1000.0  111000.0  ...  109500.0  319705.0  326030  SK바이오팜\n",
       "2  2021.03.15  109000.0   500.0  109500.0  ...  108500.0  407201.0  326030  SK바이오팜\n",
       "3  2021.03.12  108500.0  2500.0  107500.0  ...  107000.0  414138.0  326030  SK바이오팜\n",
       "4  2021.03.11  106000.0  2000.0  104000.0  ...  103500.0  366145.0  326030  SK바이오팜\n",
       "5  2021.03.10  104000.0  4000.0  110000.0  ...  103500.0  508231.0  326030  SK바이오팜\n",
       "\n",
       "[5 rows x 9 columns]"
      ]
     },
     "execution_count": 28,
     "metadata": {
      "tags": []
     },
     "output_type": "execute_result"
    }
   ],
   "source": [
    "df.head()"
   ]
  },
  {
   "cell_type": "markdown",
   "metadata": {
    "id": "S87TS6dbDEIv"
   },
   "source": [
    "## 컬럼 순서 변경하기"
   ]
  },
  {
   "cell_type": "code",
   "execution_count": 29,
   "metadata": {
    "colab": {
     "base_uri": "https://localhost:8080/",
     "height": 204
    },
    "executionInfo": {
     "elapsed": 7642,
     "status": "ok",
     "timestamp": 1615877685258,
     "user": {
      "displayName": "todaycode오늘코드",
      "photoUrl": "https://lh3.googleusercontent.com/a-/AOh14GgLiO5i_xXRR_qAG77avSrsWiiI4KHJR6t4xysb=s64",
      "userId": "06313463015165663090"
     },
     "user_tz": -540
    },
    "id": "eJL7axBoDEIw",
    "outputId": "8e1bcefa-c8f1-44d3-e705-91cffddb4a01"
   },
   "outputs": [
    {
     "data": {
      "text/html": [
       "<div>\n",
       "<style scoped>\n",
       "    .dataframe tbody tr th:only-of-type {\n",
       "        vertical-align: middle;\n",
       "    }\n",
       "\n",
       "    .dataframe tbody tr th {\n",
       "        vertical-align: top;\n",
       "    }\n",
       "\n",
       "    .dataframe thead th {\n",
       "        text-align: right;\n",
       "    }\n",
       "</style>\n",
       "<table border=\"1\" class=\"dataframe\">\n",
       "  <thead>\n",
       "    <tr style=\"text-align: right;\">\n",
       "      <th></th>\n",
       "      <th>종목코드</th>\n",
       "      <th>종목명</th>\n",
       "      <th>날짜</th>\n",
       "      <th>종가</th>\n",
       "      <th>전일비</th>\n",
       "      <th>시가</th>\n",
       "      <th>고가</th>\n",
       "      <th>저가</th>\n",
       "      <th>거래량</th>\n",
       "    </tr>\n",
       "  </thead>\n",
       "  <tbody>\n",
       "    <tr>\n",
       "      <th>1</th>\n",
       "      <td>326030</td>\n",
       "      <td>SK바이오팜</td>\n",
       "      <td>2021.03.16</td>\n",
       "      <td>110000.0</td>\n",
       "      <td>1000.0</td>\n",
       "      <td>111000.0</td>\n",
       "      <td>111500.0</td>\n",
       "      <td>109500.0</td>\n",
       "      <td>319705.0</td>\n",
       "    </tr>\n",
       "    <tr>\n",
       "      <th>2</th>\n",
       "      <td>326030</td>\n",
       "      <td>SK바이오팜</td>\n",
       "      <td>2021.03.15</td>\n",
       "      <td>109000.0</td>\n",
       "      <td>500.0</td>\n",
       "      <td>109500.0</td>\n",
       "      <td>112500.0</td>\n",
       "      <td>108500.0</td>\n",
       "      <td>407201.0</td>\n",
       "    </tr>\n",
       "    <tr>\n",
       "      <th>3</th>\n",
       "      <td>326030</td>\n",
       "      <td>SK바이오팜</td>\n",
       "      <td>2021.03.12</td>\n",
       "      <td>108500.0</td>\n",
       "      <td>2500.0</td>\n",
       "      <td>107500.0</td>\n",
       "      <td>110500.0</td>\n",
       "      <td>107000.0</td>\n",
       "      <td>414138.0</td>\n",
       "    </tr>\n",
       "    <tr>\n",
       "      <th>4</th>\n",
       "      <td>326030</td>\n",
       "      <td>SK바이오팜</td>\n",
       "      <td>2021.03.11</td>\n",
       "      <td>106000.0</td>\n",
       "      <td>2000.0</td>\n",
       "      <td>104000.0</td>\n",
       "      <td>107000.0</td>\n",
       "      <td>103500.0</td>\n",
       "      <td>366145.0</td>\n",
       "    </tr>\n",
       "    <tr>\n",
       "      <th>5</th>\n",
       "      <td>326030</td>\n",
       "      <td>SK바이오팜</td>\n",
       "      <td>2021.03.10</td>\n",
       "      <td>104000.0</td>\n",
       "      <td>4000.0</td>\n",
       "      <td>110000.0</td>\n",
       "      <td>110500.0</td>\n",
       "      <td>103500.0</td>\n",
       "      <td>508231.0</td>\n",
       "    </tr>\n",
       "  </tbody>\n",
       "</table>\n",
       "</div>"
      ],
      "text/plain": [
       "     종목코드     종목명          날짜        종가  ...        시가        고가        저가       거래량\n",
       "1  326030  SK바이오팜  2021.03.16  110000.0  ...  111000.0  111500.0  109500.0  319705.0\n",
       "2  326030  SK바이오팜  2021.03.15  109000.0  ...  109500.0  112500.0  108500.0  407201.0\n",
       "3  326030  SK바이오팜  2021.03.12  108500.0  ...  107500.0  110500.0  107000.0  414138.0\n",
       "4  326030  SK바이오팜  2021.03.11  106000.0  ...  104000.0  107000.0  103500.0  366145.0\n",
       "5  326030  SK바이오팜  2021.03.10  104000.0  ...  110000.0  110500.0  103500.0  508231.0\n",
       "\n",
       "[5 rows x 9 columns]"
      ]
     },
     "execution_count": 29,
     "metadata": {
      "tags": []
     },
     "output_type": "execute_result"
    }
   ],
   "source": [
    "df = df[['종목코드', '종목명', '날짜', '종가', '전일비', '시가', '고가', '저가', '거래량']]\n",
    "df.head()"
   ]
  },
  {
   "cell_type": "markdown",
   "metadata": {
    "id": "KTI6J_g-DEIy"
   },
   "source": [
    "## 중복데이터 제거하기\n",
    "* drop_duplicates 를 통해 중복된 데이터가 있다면 제거합니다."
   ]
  },
  {
   "cell_type": "code",
   "execution_count": 30,
   "metadata": {
    "colab": {
     "base_uri": "https://localhost:8080/"
    },
    "executionInfo": {
     "elapsed": 6704,
     "status": "ok",
     "timestamp": 1615877685259,
     "user": {
      "displayName": "todaycode오늘코드",
      "photoUrl": "https://lh3.googleusercontent.com/a-/AOh14GgLiO5i_xXRR_qAG77avSrsWiiI4KHJR6t4xysb=s64",
      "userId": "06313463015165663090"
     },
     "user_tz": -540
    },
    "id": "FoQS5li8DEIy",
    "outputId": "4fdc77cb-1fed-490a-aeba-b71285d30ed8"
   },
   "outputs": [
    {
     "name": "stdout",
     "output_type": "stream",
     "text": [
      "(173, 9)\n",
      "(173, 9)\n"
     ]
    }
   ],
   "source": [
    "print(df.shape)\n",
    "df = df.drop_duplicates()\n",
    "print(df.shape)"
   ]
  },
  {
   "cell_type": "markdown",
   "metadata": {
    "id": "ughaJdDADEI1"
   },
   "source": [
    "## 기술통계값 구하기"
   ]
  },
  {
   "cell_type": "code",
   "execution_count": 31,
   "metadata": {
    "colab": {
     "base_uri": "https://localhost:8080/",
     "height": 297
    },
    "executionInfo": {
     "elapsed": 5814,
     "status": "ok",
     "timestamp": 1615877685260,
     "user": {
      "displayName": "todaycode오늘코드",
      "photoUrl": "https://lh3.googleusercontent.com/a-/AOh14GgLiO5i_xXRR_qAG77avSrsWiiI4KHJR6t4xysb=s64",
      "userId": "06313463015165663090"
     },
     "user_tz": -540
    },
    "id": "3ThOnv56DEI1",
    "outputId": "61b3791a-eeef-4c5d-df2b-f8ea4ea8d3ae"
   },
   "outputs": [
    {
     "data": {
      "text/html": [
       "<div>\n",
       "<style scoped>\n",
       "    .dataframe tbody tr th:only-of-type {\n",
       "        vertical-align: middle;\n",
       "    }\n",
       "\n",
       "    .dataframe tbody tr th {\n",
       "        vertical-align: top;\n",
       "    }\n",
       "\n",
       "    .dataframe thead th {\n",
       "        text-align: right;\n",
       "    }\n",
       "</style>\n",
       "<table border=\"1\" class=\"dataframe\">\n",
       "  <thead>\n",
       "    <tr style=\"text-align: right;\">\n",
       "      <th></th>\n",
       "      <th>종가</th>\n",
       "      <th>전일비</th>\n",
       "      <th>시가</th>\n",
       "      <th>고가</th>\n",
       "      <th>저가</th>\n",
       "      <th>거래량</th>\n",
       "    </tr>\n",
       "  </thead>\n",
       "  <tbody>\n",
       "    <tr>\n",
       "      <th>count</th>\n",
       "      <td>173.000000</td>\n",
       "      <td>173.000000</td>\n",
       "      <td>173.000000</td>\n",
       "      <td>173.000000</td>\n",
       "      <td>173.000000</td>\n",
       "      <td>1.730000e+02</td>\n",
       "    </tr>\n",
       "    <tr>\n",
       "      <th>mean</th>\n",
       "      <td>163609.826590</td>\n",
       "      <td>3745.664740</td>\n",
       "      <td>164208.092486</td>\n",
       "      <td>167179.190751</td>\n",
       "      <td>160708.092486</td>\n",
       "      <td>7.123889e+05</td>\n",
       "    </tr>\n",
       "    <tr>\n",
       "      <th>std</th>\n",
       "      <td>21829.534252</td>\n",
       "      <td>5916.231736</td>\n",
       "      <td>22315.784469</td>\n",
       "      <td>23694.573646</td>\n",
       "      <td>21329.162898</td>\n",
       "      <td>1.428186e+06</td>\n",
       "    </tr>\n",
       "    <tr>\n",
       "      <th>min</th>\n",
       "      <td>104000.000000</td>\n",
       "      <td>0.000000</td>\n",
       "      <td>98000.000000</td>\n",
       "      <td>107000.000000</td>\n",
       "      <td>98000.000000</td>\n",
       "      <td>1.074820e+05</td>\n",
       "    </tr>\n",
       "    <tr>\n",
       "      <th>25%</th>\n",
       "      <td>152000.000000</td>\n",
       "      <td>1000.000000</td>\n",
       "      <td>152000.000000</td>\n",
       "      <td>153500.000000</td>\n",
       "      <td>149500.000000</td>\n",
       "      <td>2.008290e+05</td>\n",
       "    </tr>\n",
       "    <tr>\n",
       "      <th>50%</th>\n",
       "      <td>167500.000000</td>\n",
       "      <td>2000.000000</td>\n",
       "      <td>168000.000000</td>\n",
       "      <td>170000.000000</td>\n",
       "      <td>165000.000000</td>\n",
       "      <td>3.197050e+05</td>\n",
       "    </tr>\n",
       "    <tr>\n",
       "      <th>75%</th>\n",
       "      <td>176500.000000</td>\n",
       "      <td>4000.000000</td>\n",
       "      <td>177000.000000</td>\n",
       "      <td>179500.000000</td>\n",
       "      <td>174000.000000</td>\n",
       "      <td>6.264030e+05</td>\n",
       "    </tr>\n",
       "    <tr>\n",
       "      <th>max</th>\n",
       "      <td>217000.000000</td>\n",
       "      <td>49500.000000</td>\n",
       "      <td>219000.000000</td>\n",
       "      <td>269500.000000</td>\n",
       "      <td>210000.000000</td>\n",
       "      <td>1.242668e+07</td>\n",
       "    </tr>\n",
       "  </tbody>\n",
       "</table>\n",
       "</div>"
      ],
      "text/plain": [
       "                  종가           전일비  ...             저가           거래량\n",
       "count     173.000000    173.000000  ...     173.000000  1.730000e+02\n",
       "mean   163609.826590   3745.664740  ...  160708.092486  7.123889e+05\n",
       "std     21829.534252   5916.231736  ...   21329.162898  1.428186e+06\n",
       "min    104000.000000      0.000000  ...   98000.000000  1.074820e+05\n",
       "25%    152000.000000   1000.000000  ...  149500.000000  2.008290e+05\n",
       "50%    167500.000000   2000.000000  ...  165000.000000  3.197050e+05\n",
       "75%    176500.000000   4000.000000  ...  174000.000000  6.264030e+05\n",
       "max    217000.000000  49500.000000  ...  210000.000000  1.242668e+07\n",
       "\n",
       "[8 rows x 6 columns]"
      ]
     },
     "execution_count": 31,
     "metadata": {
      "tags": []
     },
     "output_type": "execute_result"
    }
   ],
   "source": [
    "# describe는 기본적으로 수치데이터에 대한 기술통계값을 구하게 됩니다.\n",
    "df.describe()"
   ]
  },
  {
   "cell_type": "code",
   "execution_count": 32,
   "metadata": {
    "colab": {
     "base_uri": "https://localhost:8080/"
    },
    "executionInfo": {
     "elapsed": 5272,
     "status": "ok",
     "timestamp": 1615877685268,
     "user": {
      "displayName": "todaycode오늘코드",
      "photoUrl": "https://lh3.googleusercontent.com/a-/AOh14GgLiO5i_xXRR_qAG77avSrsWiiI4KHJR6t4xysb=s64",
      "userId": "06313463015165663090"
     },
     "user_tz": -540
    },
    "id": "bYhtmPbnHlC_",
    "outputId": "9a51132d-5489-4687-94cf-316a01861fe9"
   },
   "outputs": [
    {
     "data": {
      "text/plain": [
       "712388.9248554914"
      ]
     },
     "execution_count": 32,
     "metadata": {
      "tags": []
     },
     "output_type": "execute_result"
    }
   ],
   "source": [
    "df[\"거래량\"].mean()"
   ]
  },
  {
   "cell_type": "markdown",
   "metadata": {
    "id": "nrO27W1pDEI4"
   },
   "source": [
    "## 최근 날짜 구해서 파일명 만들기"
   ]
  },
  {
   "cell_type": "code",
   "execution_count": 33,
   "metadata": {
    "colab": {
     "base_uri": "https://localhost:8080/"
    },
    "executionInfo": {
     "elapsed": 3983,
     "status": "ok",
     "timestamp": 1615877685271,
     "user": {
      "displayName": "todaycode오늘코드",
      "photoUrl": "https://lh3.googleusercontent.com/a-/AOh14GgLiO5i_xXRR_qAG77avSrsWiiI4KHJR6t4xysb=s64",
      "userId": "06313463015165663090"
     },
     "user_tz": -540
    },
    "id": "JNEaPPXGIFd9",
    "outputId": "b550454a-cd5f-4bd1-a317-c01c32681e6c"
   },
   "outputs": [
    {
     "data": {
      "text/plain": [
       "종목코드        326030\n",
       "종목명         SK바이오팜\n",
       "날짜      2021.03.16\n",
       "종가          110000\n",
       "전일비           1000\n",
       "시가          111000\n",
       "고가          111500\n",
       "저가          109500\n",
       "거래량         319705\n",
       "Name: 1, dtype: object"
      ]
     },
     "execution_count": 33,
     "metadata": {
      "tags": []
     },
     "output_type": "execute_result"
    }
   ],
   "source": [
    "df.iloc[0]"
   ]
  },
  {
   "cell_type": "code",
   "execution_count": 34,
   "metadata": {
    "colab": {
     "base_uri": "https://localhost:8080/",
     "height": 35
    },
    "executionInfo": {
     "elapsed": 3730,
     "status": "ok",
     "timestamp": 1615877685273,
     "user": {
      "displayName": "todaycode오늘코드",
      "photoUrl": "https://lh3.googleusercontent.com/a-/AOh14GgLiO5i_xXRR_qAG77avSrsWiiI4KHJR6t4xysb=s64",
      "userId": "06313463015165663090"
     },
     "user_tz": -540
    },
    "id": "cL1mJ7ORDEI5",
    "outputId": "a86be2d2-f299-4f1a-cfc6-6a4e206a7fd9"
   },
   "outputs": [
    {
     "data": {
      "application/vnd.google.colaboratory.intrinsic+json": {
       "type": "string"
      },
      "text/plain": [
       "'2021.03.16'"
      ]
     },
     "execution_count": 34,
     "metadata": {
      "tags": []
     },
     "output_type": "execute_result"
    }
   ],
   "source": [
    "date = df.iloc[0][\"날짜\"]\n",
    "date"
   ]
  },
  {
   "cell_type": "code",
   "execution_count": 35,
   "metadata": {
    "colab": {
     "base_uri": "https://localhost:8080/",
     "height": 35
    },
    "executionInfo": {
     "elapsed": 2946,
     "status": "ok",
     "timestamp": 1615877685278,
     "user": {
      "displayName": "todaycode오늘코드",
      "photoUrl": "https://lh3.googleusercontent.com/a-/AOh14GgLiO5i_xXRR_qAG77avSrsWiiI4KHJR6t4xysb=s64",
      "userId": "06313463015165663090"
     },
     "user_tz": -540
    },
    "id": "ez_eKEqTDEI7",
    "outputId": "e18efcae-b9dd-47cd-df3c-80b09d37d0c8"
   },
   "outputs": [
    {
     "data": {
      "application/vnd.google.colaboratory.intrinsic+json": {
       "type": "string"
      },
      "text/plain": [
       "'SK바이오팜_326030_2021.03.16.csv'"
      ]
     },
     "execution_count": 35,
     "metadata": {
      "tags": []
     },
     "output_type": "execute_result"
    }
   ],
   "source": [
    "file_name = f\"{item_name}_{item_code}_{date}.csv\"\n",
    "file_name"
   ]
  },
  {
   "cell_type": "markdown",
   "metadata": {
    "id": "pMdWOAD_DEI9"
   },
   "source": [
    "## 파일로 저장하기"
   ]
  },
  {
   "cell_type": "code",
   "execution_count": 36,
   "metadata": {
    "executionInfo": {
     "elapsed": 2255,
     "status": "ok",
     "timestamp": 1615877685282,
     "user": {
      "displayName": "todaycode오늘코드",
      "photoUrl": "https://lh3.googleusercontent.com/a-/AOh14GgLiO5i_xXRR_qAG77avSrsWiiI4KHJR6t4xysb=s64",
      "userId": "06313463015165663090"
     },
     "user_tz": -540
    },
    "id": "o72hjMKxDEI-"
   },
   "outputs": [],
   "source": [
    "# 파일로 저장하기 데이터프레임의 기본 index 는 저장하지 않도록 옵션 추가\n",
    "df.to_csv(file_name, index=False)"
   ]
  },
  {
   "cell_type": "code",
   "execution_count": 37,
   "metadata": {
    "colab": {
     "base_uri": "https://localhost:8080/",
     "height": 419
    },
    "executionInfo": {
     "elapsed": 1989,
     "status": "ok",
     "timestamp": 1615877685283,
     "user": {
      "displayName": "todaycode오늘코드",
      "photoUrl": "https://lh3.googleusercontent.com/a-/AOh14GgLiO5i_xXRR_qAG77avSrsWiiI4KHJR6t4xysb=s64",
      "userId": "06313463015165663090"
     },
     "user_tz": -540
    },
    "id": "xZuyKZiADEJA",
    "outputId": "355a93d2-69dd-4fca-dc89-b3b42c793456"
   },
   "outputs": [
    {
     "data": {
      "text/html": [
       "<div>\n",
       "<style scoped>\n",
       "    .dataframe tbody tr th:only-of-type {\n",
       "        vertical-align: middle;\n",
       "    }\n",
       "\n",
       "    .dataframe tbody tr th {\n",
       "        vertical-align: top;\n",
       "    }\n",
       "\n",
       "    .dataframe thead th {\n",
       "        text-align: right;\n",
       "    }\n",
       "</style>\n",
       "<table border=\"1\" class=\"dataframe\">\n",
       "  <thead>\n",
       "    <tr style=\"text-align: right;\">\n",
       "      <th></th>\n",
       "      <th>종목코드</th>\n",
       "      <th>종목명</th>\n",
       "      <th>날짜</th>\n",
       "      <th>종가</th>\n",
       "      <th>전일비</th>\n",
       "      <th>시가</th>\n",
       "      <th>고가</th>\n",
       "      <th>저가</th>\n",
       "      <th>거래량</th>\n",
       "    </tr>\n",
       "  </thead>\n",
       "  <tbody>\n",
       "    <tr>\n",
       "      <th>0</th>\n",
       "      <td>326030</td>\n",
       "      <td>SK바이오팜</td>\n",
       "      <td>2021.03.16</td>\n",
       "      <td>110000.0</td>\n",
       "      <td>1000.0</td>\n",
       "      <td>111000.0</td>\n",
       "      <td>111500.0</td>\n",
       "      <td>109500.0</td>\n",
       "      <td>319705.0</td>\n",
       "    </tr>\n",
       "    <tr>\n",
       "      <th>1</th>\n",
       "      <td>326030</td>\n",
       "      <td>SK바이오팜</td>\n",
       "      <td>2021.03.15</td>\n",
       "      <td>109000.0</td>\n",
       "      <td>500.0</td>\n",
       "      <td>109500.0</td>\n",
       "      <td>112500.0</td>\n",
       "      <td>108500.0</td>\n",
       "      <td>407201.0</td>\n",
       "    </tr>\n",
       "    <tr>\n",
       "      <th>2</th>\n",
       "      <td>326030</td>\n",
       "      <td>SK바이오팜</td>\n",
       "      <td>2021.03.12</td>\n",
       "      <td>108500.0</td>\n",
       "      <td>2500.0</td>\n",
       "      <td>107500.0</td>\n",
       "      <td>110500.0</td>\n",
       "      <td>107000.0</td>\n",
       "      <td>414138.0</td>\n",
       "    </tr>\n",
       "    <tr>\n",
       "      <th>3</th>\n",
       "      <td>326030</td>\n",
       "      <td>SK바이오팜</td>\n",
       "      <td>2021.03.11</td>\n",
       "      <td>106000.0</td>\n",
       "      <td>2000.0</td>\n",
       "      <td>104000.0</td>\n",
       "      <td>107000.0</td>\n",
       "      <td>103500.0</td>\n",
       "      <td>366145.0</td>\n",
       "    </tr>\n",
       "    <tr>\n",
       "      <th>4</th>\n",
       "      <td>326030</td>\n",
       "      <td>SK바이오팜</td>\n",
       "      <td>2021.03.10</td>\n",
       "      <td>104000.0</td>\n",
       "      <td>4000.0</td>\n",
       "      <td>110000.0</td>\n",
       "      <td>110500.0</td>\n",
       "      <td>103500.0</td>\n",
       "      <td>508231.0</td>\n",
       "    </tr>\n",
       "    <tr>\n",
       "      <th>...</th>\n",
       "      <td>...</td>\n",
       "      <td>...</td>\n",
       "      <td>...</td>\n",
       "      <td>...</td>\n",
       "      <td>...</td>\n",
       "      <td>...</td>\n",
       "      <td>...</td>\n",
       "      <td>...</td>\n",
       "      <td>...</td>\n",
       "    </tr>\n",
       "    <tr>\n",
       "      <th>168</th>\n",
       "      <td>326030</td>\n",
       "      <td>SK바이오팜</td>\n",
       "      <td>2020.07.08</td>\n",
       "      <td>217000.0</td>\n",
       "      <td>500.0</td>\n",
       "      <td>214500.0</td>\n",
       "      <td>225000.0</td>\n",
       "      <td>198000.0</td>\n",
       "      <td>5990009.0</td>\n",
       "    </tr>\n",
       "    <tr>\n",
       "      <th>169</th>\n",
       "      <td>326030</td>\n",
       "      <td>SK바이오팜</td>\n",
       "      <td>2020.07.07</td>\n",
       "      <td>216500.0</td>\n",
       "      <td>2000.0</td>\n",
       "      <td>219000.0</td>\n",
       "      <td>269500.0</td>\n",
       "      <td>210000.0</td>\n",
       "      <td>10105187.0</td>\n",
       "    </tr>\n",
       "    <tr>\n",
       "      <th>170</th>\n",
       "      <td>326030</td>\n",
       "      <td>SK바이오팜</td>\n",
       "      <td>2020.07.06</td>\n",
       "      <td>214500.0</td>\n",
       "      <td>49500.0</td>\n",
       "      <td>214500.0</td>\n",
       "      <td>214500.0</td>\n",
       "      <td>193500.0</td>\n",
       "      <td>7126211.0</td>\n",
       "    </tr>\n",
       "    <tr>\n",
       "      <th>171</th>\n",
       "      <td>326030</td>\n",
       "      <td>SK바이오팜</td>\n",
       "      <td>2020.07.03</td>\n",
       "      <td>165000.0</td>\n",
       "      <td>38000.0</td>\n",
       "      <td>165000.0</td>\n",
       "      <td>165000.0</td>\n",
       "      <td>165000.0</td>\n",
       "      <td>711921.0</td>\n",
       "    </tr>\n",
       "    <tr>\n",
       "      <th>172</th>\n",
       "      <td>326030</td>\n",
       "      <td>SK바이오팜</td>\n",
       "      <td>2020.07.02</td>\n",
       "      <td>127000.0</td>\n",
       "      <td>29000.0</td>\n",
       "      <td>98000.0</td>\n",
       "      <td>127000.0</td>\n",
       "      <td>98000.0</td>\n",
       "      <td>698642.0</td>\n",
       "    </tr>\n",
       "  </tbody>\n",
       "</table>\n",
       "<p>173 rows × 9 columns</p>\n",
       "</div>"
      ],
      "text/plain": [
       "       종목코드     종목명          날짜  ...        고가        저가         거래량\n",
       "0    326030  SK바이오팜  2021.03.16  ...  111500.0  109500.0    319705.0\n",
       "1    326030  SK바이오팜  2021.03.15  ...  112500.0  108500.0    407201.0\n",
       "2    326030  SK바이오팜  2021.03.12  ...  110500.0  107000.0    414138.0\n",
       "3    326030  SK바이오팜  2021.03.11  ...  107000.0  103500.0    366145.0\n",
       "4    326030  SK바이오팜  2021.03.10  ...  110500.0  103500.0    508231.0\n",
       "..      ...     ...         ...  ...       ...       ...         ...\n",
       "168  326030  SK바이오팜  2020.07.08  ...  225000.0  198000.0   5990009.0\n",
       "169  326030  SK바이오팜  2020.07.07  ...  269500.0  210000.0  10105187.0\n",
       "170  326030  SK바이오팜  2020.07.06  ...  214500.0  193500.0   7126211.0\n",
       "171  326030  SK바이오팜  2020.07.03  ...  165000.0  165000.0    711921.0\n",
       "172  326030  SK바이오팜  2020.07.02  ...  127000.0   98000.0    698642.0\n",
       "\n",
       "[173 rows x 9 columns]"
      ]
     },
     "execution_count": 37,
     "metadata": {
      "tags": []
     },
     "output_type": "execute_result"
    }
   ],
   "source": [
    "pd.read_csv(file_name)"
   ]
  },
  {
   "cell_type": "code",
   "execution_count": 38,
   "metadata": {
    "executionInfo": {
     "elapsed": 2088,
     "status": "ok",
     "timestamp": 1615877685737,
     "user": {
      "displayName": "todaycode오늘코드",
      "photoUrl": "https://lh3.googleusercontent.com/a-/AOh14GgLiO5i_xXRR_qAG77avSrsWiiI4KHJR6t4xysb=s64",
      "userId": "06313463015165663090"
     },
     "user_tz": -540
    },
    "id": "pbXMInZyDEJC"
   },
   "outputs": [],
   "source": [
    "table = pd.read_html(\"https://www.seoul.go.kr/coronaV/coronaStatus.do\")"
   ]
  },
  {
   "cell_type": "code",
   "execution_count": 39,
   "metadata": {
    "colab": {
     "base_uri": "https://localhost:8080/"
    },
    "executionInfo": {
     "elapsed": 1849,
     "status": "ok",
     "timestamp": 1615877686197,
     "user": {
      "displayName": "todaycode오늘코드",
      "photoUrl": "https://lh3.googleusercontent.com/a-/AOh14GgLiO5i_xXRR_qAG77avSrsWiiI4KHJR6t4xysb=s64",
      "userId": "06313463015165663090"
     },
     "user_tz": -540
    },
    "id": "vl6G1_rRIy0w",
    "outputId": "05914678-55ef-4ff0-d7c3-a1b804f3a45e"
   },
   "outputs": [
    {
     "data": {
      "text/plain": [
       "6"
      ]
     },
     "execution_count": 39,
     "metadata": {
      "tags": []
     },
     "output_type": "execute_result"
    }
   ],
   "source": [
    "len(table)"
   ]
  },
  {
   "cell_type": "code",
   "execution_count": 40,
   "metadata": {
    "colab": {
     "base_uri": "https://localhost:8080/",
     "height": 49
    },
    "executionInfo": {
     "elapsed": 1151,
     "status": "ok",
     "timestamp": 1615877686206,
     "user": {
      "displayName": "todaycode오늘코드",
      "photoUrl": "https://lh3.googleusercontent.com/a-/AOh14GgLiO5i_xXRR_qAG77avSrsWiiI4KHJR6t4xysb=s64",
      "userId": "06313463015165663090"
     },
     "user_tz": -540
    },
    "id": "tVwMKm0cI5Ln",
    "outputId": "baaad1b4-103d-4dc9-8ecf-a4ca2be638f9"
   },
   "outputs": [
    {
     "data": {
      "text/html": [
       "<div>\n",
       "<style scoped>\n",
       "    .dataframe tbody tr th:only-of-type {\n",
       "        vertical-align: middle;\n",
       "    }\n",
       "\n",
       "    .dataframe tbody tr th {\n",
       "        vertical-align: top;\n",
       "    }\n",
       "\n",
       "    .dataframe thead th {\n",
       "        text-align: right;\n",
       "    }\n",
       "</style>\n",
       "<table border=\"1\" class=\"dataframe\">\n",
       "  <thead>\n",
       "    <tr style=\"text-align: right;\">\n",
       "      <th></th>\n",
       "      <th>연번</th>\n",
       "      <th>환자</th>\n",
       "      <th>확진일</th>\n",
       "      <th>거주지</th>\n",
       "      <th>여행력</th>\n",
       "      <th>접촉력</th>\n",
       "      <th>퇴원현황</th>\n",
       "    </tr>\n",
       "  </thead>\n",
       "  <tbody>\n",
       "  </tbody>\n",
       "</table>\n",
       "</div>"
      ],
      "text/plain": [
       "Empty DataFrame\n",
       "Columns: [연번, 환자, 확진일, 거주지, 여행력, 접촉력, 퇴원현황]\n",
       "Index: []"
      ]
     },
     "execution_count": 40,
     "metadata": {
      "tags": []
     },
     "output_type": "execute_result"
    }
   ],
   "source": [
    "table[3]"
   ]
  },
  {
   "cell_type": "code",
   "execution_count": null,
   "metadata": {
    "id": "tienj4UUI7zG"
   },
   "outputs": [],
   "source": []
  }
 ],
 "metadata": {
  "colab": {
   "collapsed_sections": [],
   "name": "3. 네이버금융 개별종목 수집.ipynb",
   "provenance": []
  },
  "kernelspec": {
   "display_name": "Python 3 (ipykernel)",
   "language": "python",
   "name": "python3"
  },
  "language_info": {
   "codemirror_mode": {
    "name": "ipython",
    "version": 3
   },
   "file_extension": ".py",
   "mimetype": "text/x-python",
   "name": "python",
   "nbconvert_exporter": "python",
   "pygments_lexer": "ipython3",
   "version": "3.9.1"
  },
  "varInspector": {
   "cols": {
    "lenName": 16,
    "lenType": 16,
    "lenVar": 40
   },
   "kernels_config": {
    "python": {
     "delete_cmd_postfix": "",
     "delete_cmd_prefix": "del ",
     "library": "var_list.py",
     "varRefreshCmd": "print(var_dic_list())"
    },
    "r": {
     "delete_cmd_postfix": ") ",
     "delete_cmd_prefix": "rm(",
     "library": "var_list.r",
     "varRefreshCmd": "cat(var_dic_list()) "
    }
   },
   "types_to_exclude": [
    "module",
    "function",
    "builtin_function_or_method",
    "instance",
    "_Feature"
   ],
   "window_display": false
  }
 },
 "nbformat": 4,
 "nbformat_minor": 4
}
