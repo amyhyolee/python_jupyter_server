{
 "cells": [
  {
   "cell_type": "markdown",
   "id": "ddcedf75-4580-4d5f-9ec4-1f5b69060293",
   "metadata": {},
   "source": [
    "#### 구글 검색: krx api python\n",
    "1. 수집\n",
    "- FinanceDataReader\n",
    "- requests\n",
    "- Beautifulsoup4\n",
    "- tqdm\n",
    "- pandas\n",
    "2. 전처리 분석\n",
    "3. 시각화\n",
    "- matplotlib\n",
    "- seaborn\n",
    "- plotly\n",
    "- cufflinks"
   ]
  },
  {
   "cell_type": "markdown",
   "id": "de467fa5-cca0-4251-bfeb-0b987a883621",
   "metadata": {},
   "source": [
    "#### lib\n",
    "- pip install -U finance-datareader\n",
    "- pip install -U bs4\n",
    "- pip install -U seaborn"
   ]
  },
  {
   "cell_type": "markdown",
   "id": "f03ecc5e-87df-4a61-bdd1-160c1b9c98c2",
   "metadata": {},
   "source": [
    "#### 참조사이트\n",
    "1. git hub\n",
    "- https://github.com/corazzon\n",
    "- https://github.com/sharebook-kr/pykrx\n",
    "- https://github.com/FinanceData/FinanceDataReader/wiki/\n",
    "2. FinaceData\n",
    "- https://financedata.github.io/posts/finance-data-reader-users-guide.html\n",
    "- https://pandas-datareader.readthedocs.io/en/latest/readers/index.html\n",
    "3. youtube\n",
    "- https://www.youtube.com/c/todaycode/videos\n",
    "4. 데이터 분석\n",
    "- https://www.youtube.com/watch?v=0eCbAYX-_UQ&list=PL7ZVZgsnLwEEZcVusN-fV_sJhQHq833OS&ab_channel=%EC%9D%B4%EC%88%98%EC%95%88%EC%BB%B4%ED%93%A8%ED%84%B0%EC%97%B0%EA%B5%AC%EC%86%8C\n",
    "- https://www.kaggle.com/\n",
    "5. 딥러닝\n",
    "- https://www.youtube.com/watch?v=7eldOrjQVi0&list=PLQ28Nx3M4Jrguyuwg4xe9d9t2XE639e5C&ab_channel=DeepLearningZeroToAll 텐서플러\n",
    "- https://www.youtube.com/watch?v=7eldOrjQVi0&list=PLQ28Nx3M4JrhkqBVIXg-i5_CVVoS1UzAv&ab_channel=DeepLearningZeroToAll 파이터치"
   ]
  },
  {
   "cell_type": "markdown",
   "id": "8cb3ed82-7181-42a8-86b8-2a3b1d0400e3",
   "metadata": {},
   "source": [
    "#### 온라인 강좌\n",
    "- https://www.inflearn.com/course/%EC%A6%9D%EA%B6%8C%EB%8D%B0%EC%9D%B4%ED%84%B0-%EC%88%98%EC%A7%91-%EB%B6%84%EC%84%9D/lecture/64194?tab=note&volume=1.00&speed=1.75"
   ]
  }
 ],
 "metadata": {
  "kernelspec": {
   "display_name": "Python 3 (ipykernel)",
   "language": "python",
   "name": "python3"
  },
  "language_info": {
   "codemirror_mode": {
    "name": "ipython",
    "version": 3
   },
   "file_extension": ".py",
   "mimetype": "text/x-python",
   "name": "python",
   "nbconvert_exporter": "python",
   "pygments_lexer": "ipython3",
   "version": "3.9.1"
  }
 },
 "nbformat": 4,
 "nbformat_minor": 5
}
