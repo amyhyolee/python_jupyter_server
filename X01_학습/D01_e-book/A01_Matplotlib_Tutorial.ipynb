{
 "cells": [
  {
   "cell_type": "markdown",
   "id": "f748dbb9-568f-4e56-b691-424e4ad415bc",
   "metadata": {},
   "source": [
    "Matplotlib Tutorial - 파이썬으로 데이터 시각화하기\n",
    "- https://wikidocs.net/\n",
    "- https://wikidocs.net/book/5011 => 파이썬 데이터 시각화 e-book"
   ]
  }
 ],
 "metadata": {
  "kernelspec": {
   "display_name": "Python 3 (ipykernel)",
   "language": "python",
   "name": "python3"
  },
  "language_info": {
   "codemirror_mode": {
    "name": "ipython",
    "version": 3
   },
   "file_extension": ".py",
   "mimetype": "text/x-python",
   "name": "python",
   "nbconvert_exporter": "python",
   "pygments_lexer": "ipython3",
   "version": "3.9.10"
  }
 },
 "nbformat": 4,
 "nbformat_minor": 5
}
