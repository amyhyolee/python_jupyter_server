{
 "cells": [
  {
   "cell_type": "markdown",
   "id": "a7ff12a8-ca5b-47c1-8a7a-389c200c0e56",
   "metadata": {},
   "source": [
    "- [PyTorch 공식 문서](https://tutorials.pytorch.kr/beginner/blitz/tensor_tutorial.html)\n",
    "- [PyTorch로 시작하는 딥 러닝 입문](https://wikidocs.net/book/2788)"
   ]
  }
 ],
 "metadata": {
  "kernelspec": {
   "display_name": "Python 3 (ipykernel)",
   "language": "python",
   "name": "python3"
  },
  "language_info": {
   "codemirror_mode": {
    "name": "ipython",
    "version": 3
   },
   "file_extension": ".py",
   "mimetype": "text/x-python",
   "name": "python",
   "nbconvert_exporter": "python",
   "pygments_lexer": "ipython3",
   "version": "3.9.10"
  }
 },
 "nbformat": 4,
 "nbformat_minor": 5
}
