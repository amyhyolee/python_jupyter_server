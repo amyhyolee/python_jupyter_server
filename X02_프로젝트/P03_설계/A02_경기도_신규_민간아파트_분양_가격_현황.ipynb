{
 "cells": [
  {
   "cell_type": "markdown",
   "id": "e093c0c4-5bbd-47ee-87c0-079988377ce8",
   "metadata": {},
   "source": [
    "#### 00. 개요\n",
    "- 경기도_신규_민간아파트_분양_가격_현황 분석한다\n",
    "- 집계 년도별 시도별 분양 가격 알아본다"
   ]
  },
  {
   "cell_type": "markdown",
   "id": "071cad54-a2a1-491f-9951-aee0b5664be1",
   "metadata": {},
   "source": [
    "#### 01. 분석 대상 데이터\n",
    "- 경기도_신규_민간아파트_분양_가격_현황\n",
    "- 데이터 원본: https://data.gg.go.kr/portal/data/service/selectServicePage.do?page=4&rows=10&sortColumn=VIEW_CNT&sortDirection=DESC&infId=HRS9521PX6GZDS3OI09A21207024&infSeq=2&order=3&loc=\n",
    "- 판다스 API : https://pandas.pydata.org/pandas-docs/stable/reference/frame.html"
   ]
  },
  {
   "cell_type": "markdown",
   "id": "62cb9e66-c7f7-4eb0-b457-fc3a1d3f2ea0",
   "metadata": {},
   "source": [
    "#### 02. 데이터 수집\n",
    "- 수집: https://openapi.gg.go.kr/Wntyewart API 를 이용해서 데이터를 수집한다.\n",
    "- 저장: 결과는 csv 파일로 저장한다. 단, 가공 없이 원본 그대로 저장한다.\n",
    "- 파일명: A02_경기도_신규_민간아파트_분양_가격_현황_source.csv"
   ]
  },
  {
   "cell_type": "markdown",
   "id": "168a0627-1e91-4b8b-a164-bd0b1afbb4ba",
   "metadata": {},
   "source": [
    "#### 03. 데이터 전처리\n",
    "- 필요한 항목만 필터링한다 (SUM_YY, SIDO_NM, LOTOUT_PC)\n",
    "- 결측치: 분양 가격중 null 항목은 0으로 치환한다.\n",
    "- 파일명: A02_경기도_신규_민간아파트_분양_가격_현황_result.csv"
   ]
  },
  {
   "cell_type": "markdown",
   "id": "f7d5f90b-7c48-491a-a3ff-aa820182d11c",
   "metadata": {},
   "source": [
    "#### 04. 분석\n",
    "- 분석 알고리즘: "
   ]
  },
  {
   "cell_type": "markdown",
   "id": "5e442ca0-969e-471f-a896-e0d7ce2b98e1",
   "metadata": {},
   "source": [
    "#### 05. 결론\n",
    "- 년도별 시도별 분양 가격을 bar 차트로 표현한다."
   ]
  },
  {
   "cell_type": "code",
   "execution_count": null,
   "id": "175f683c-ac59-4e75-9070-21d40754e448",
   "metadata": {},
   "outputs": [],
   "source": []
  }
 ],
 "metadata": {
  "kernelspec": {
   "display_name": "Python 3 (ipykernel)",
   "language": "python",
   "name": "python3"
  },
  "language_info": {
   "codemirror_mode": {
    "name": "ipython",
    "version": 3
   },
   "file_extension": ".py",
   "mimetype": "text/x-python",
   "name": "python",
   "nbconvert_exporter": "python",
   "pygments_lexer": "ipython3",
   "version": "3.9.7"
  }
 },
 "nbformat": 4,
 "nbformat_minor": 5
}
