{
 "cells": [
  {
   "cell_type": "markdown",
   "id": "e093c0c4-5bbd-47ee-87c0-079988377ce8",
   "metadata": {},
   "source": [
    "#### 00. 개요\n",
    "- 경기도 대학 및 대학원 년도별 중도퇴학비율을 구한다.\n",
    "- 중도 퇴학 비율을 이용해서, 폐교 여부를 예측한다."
   ]
  },
  {
   "cell_type": "markdown",
   "id": "071cad54-a2a1-491f-9951-aee0b5664be1",
   "metadata": {},
   "source": [
    "#### 01. 분석 대상 데이터\n",
    "- 경기도_중도탈락 학생 현황(대학원,대학원대학)\n",
    "- 데이터 원본: https://www.data.go.kr/data/15056921/openapi.do\n",
    "- 판다스 API : https://pandas.pydata.org/pandas-docs/stable/reference/frame.html"
   ]
  },
  {
   "cell_type": "markdown",
   "id": "62cb9e66-c7f7-4eb0-b457-fc3a1d3f2ea0",
   "metadata": {},
   "source": [
    "#### 02. 데이터 수집\n",
    "- 수집: https://www.data.go.kr/data/15056921/openapi.do API 를 이용해서 데이터를 수집한다.\n",
    "- 저장: 결과는 csv 파일로 저장한다. 단, 가공 없이 원본 그대로 저장한다.\n",
    "- 파일명: 경기도_중도탈락_학생현황.csv"
   ]
  },
  {
   "cell_type": "markdown",
   "id": "168a0627-1e91-4b8b-a164-bd0b1afbb4ba",
   "metadata": {},
   "source": [
    "#### 03. 데이터 전처리\n",
    "- 필요한 항목만 필터링한다.(STD_YY, TOTSUM, ERSTD_CNT)\n",
    "- 결측치: STD_YY가 null 인 행은 제거한다.\n",
    "          나머지 null 항목은 0으로 치환한다.\n",
    "- 파일명: 경기도_중도탈락_학생현황_result.csv"
   ]
  },
  {
   "cell_type": "markdown",
   "id": "f7d5f90b-7c48-491a-a3ff-aa820182d11c",
   "metadata": {},
   "source": [
    "#### 04. 분석\n",
    "- 분석 알고리즘: 중도탈락학생비율(%)((E/A) × 100)(%)"
   ]
  },
  {
   "cell_type": "markdown",
   "id": "5e442ca0-969e-471f-a896-e0d7ce2b98e1",
   "metadata": {},
   "source": [
    "#### 05. 결론\n",
    "- 년도별 중도퇴학비율을 그리드 및 bar 차트로 표현한다."
   ]
  }
 ],
 "metadata": {
  "kernelspec": {
   "display_name": "Python 3 (ipykernel)",
   "language": "python",
   "name": "python3"
  },
  "language_info": {
   "codemirror_mode": {
    "name": "ipython",
    "version": 3
   },
   "file_extension": ".py",
   "mimetype": "text/x-python",
   "name": "python",
   "nbconvert_exporter": "python",
   "pygments_lexer": "ipython3",
   "version": "3.9.7"
  }
 },
 "nbformat": 4,
 "nbformat_minor": 5
}
