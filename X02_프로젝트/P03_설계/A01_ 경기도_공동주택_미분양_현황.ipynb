{
 "cells": [
  {
   "cell_type": "markdown",
   "id": "e093c0c4-5bbd-47ee-87c0-079988377ce8",
   "metadata": {
    "tags": []
   },
   "source": [
    "#### 00. 개요\n",
    "- 경기도 공동 주택 미분양 현황 분석을 한다.\n",
    "- 사람들의 관심이 없는 지역이 미분양이 많은지 적은지 알아본다."
   ]
  },
  {
   "cell_type": "markdown",
   "id": "071cad54-a2a1-491f-9951-aee0b5664be1",
   "metadata": {},
   "source": [
    "#### 01. 분석 대상 데이터\n",
    "- 경기도_공동주택 미분양 현황\n",
    "- 데이터 원본: [경기데이터드림](https://data.gg.go.kr/portal/data/service/selectServicePage.do?page=1&rows=10&sortColumn=&sortDirection=&infId=EF0EEXM6XLFQK6DWAKUT18918283&infSeq=2&order=&loc=&searchWord=%EB%AF%B8%EB%B6%84%EC%96%91)\n",
    "- 판다스 API : https://pandas.pydata.org/pandas-docs/stable/reference/frame.html"
   ]
  },
  {
   "cell_type": "markdown",
   "id": "62cb9e66-c7f7-4eb0-b457-fc3a1d3f2ea0",
   "metadata": {},
   "source": [
    "#### 02. 데이터 수집\n",
    "- 수집: https://openapi.gg.go.kr/CopertnhousngUnsol API 를 이용해서 데이터를 수집한다.\n",
    "- 저장: 결과는 csv 파일로 저장한다. 단, 가공 없이 원본 그대로 저장한다.\n",
    "- 파일명: A01_경기도_공동주택_미분양_현황_source.csv"
   ]
  },
  {
   "cell_type": "markdown",
   "id": "168a0627-1e91-4b8b-a164-bd0b1afbb4ba",
   "metadata": {},
   "source": [
    "#### 03. 데이터 전처리\n",
    "- 파일명: A01_경기도_공동주택_미분양_현황_result.csv"
   ]
  },
  {
   "cell_type": "markdown",
   "id": "f7d5f90b-7c48-491a-a3ff-aa820182d11c",
   "metadata": {},
   "source": [
    "#### 04. 분석\n",
    "- 분석 알고리즘: ?"
   ]
  },
  {
   "cell_type": "markdown",
   "id": "5e442ca0-969e-471f-a896-e0d7ce2b98e1",
   "metadata": {},
   "source": [
    "#### 05. 결론\n",
    "- 시군구별 미분양 현황"
   ]
  },
  {
   "cell_type": "code",
   "execution_count": null,
   "id": "a7c4c0e6-dfea-431d-9682-0f5221b616b9",
   "metadata": {},
   "outputs": [],
   "source": []
  }
 ],
 "metadata": {
  "kernelspec": {
   "display_name": "Python 3 (ipykernel)",
   "language": "python",
   "name": "python3"
  },
  "language_info": {
   "codemirror_mode": {
    "name": "ipython",
    "version": 3
   },
   "file_extension": ".py",
   "mimetype": "text/x-python",
   "name": "python",
   "nbconvert_exporter": "python",
   "pygments_lexer": "ipython3",
   "version": "3.9.7"
  }
 },
 "nbformat": 4,
 "nbformat_minor": 5
}
