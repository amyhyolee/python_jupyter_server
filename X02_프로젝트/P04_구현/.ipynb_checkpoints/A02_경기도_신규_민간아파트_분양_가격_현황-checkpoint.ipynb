{
 "cells": [
  {
   "cell_type": "markdown",
   "id": "7b1a3845-afb1-46b3-a834-57a033a99a15",
   "metadata": {},
   "source": [
    "경기도 공동 주택 미분양 현황\n",
    "- https://data.gg.go.kr/portal/data/service/selectServicePage.do?page=4&rows=10&sortColumn=VIEW_CNT&sortDirection=DESC&infId=HRS9521PX6GZDS3OI09A21207024&infSeq=2&order=3&loc=\n",
    "- https://openapi.gg.go.kr/Wntyewart?KEY=08ded69e48684156a8fff8fa44f5fba9&Type=json&pIndex=1&pSize=1"
   ]
  },
  {
   "cell_type": "code",
   "execution_count": 3,
   "id": "e722b927-82fe-48d2-a6ae-09a16739fb1a",
   "metadata": {},
   "outputs": [],
   "source": [
    "# libary\n",
    "import pandas as pd\n",
    "import numpy as np\n",
    "from util.apiUtil import Api\n",
    "import matplotlib.pyplot as plt\n",
    "import matplotlib as mp\n",
    "mp.rcParams['font.family'] = 'AppleGothic'\n",
    "mp.rcParams['axes.unicode_minus'] = False\n",
    "\n",
    "# 전역변수\n",
    "save_file_name = \"A02_경기도_신규_민간아파트_분양_가격_현황\";"
   ]
  },
  {
   "cell_type": "markdown",
   "id": "08811739-490a-415b-a681-d0f50a6e277d",
   "metadata": {},
   "source": [
    "#### 02. 수집 및 csv 파일 저장"
   ]
  },
  {
   "cell_type": "code",
   "execution_count": 5,
   "id": "bda326ba-78d9-4dab-9abc-ec569aebdeb2",
   "metadata": {},
   "outputs": [
    {
     "name": "stdout",
     "output_type": "stream",
     "text": [
      "[처리시간: 0.19 sec] 대상건수: 125, 처리건수: 125\n"
     ]
    }
   ],
   "source": [
    "# 01. 데이터 수집\n",
    "url = \"https://openapi.gg.go.kr/Wntyewart?KEY=08ded69e48684156a8fff8fa44f5fba9&Type=json&pIndex=\"\n",
    "pSize = 500 # data fetch Seize\n",
    "df = Api.get_dataframe(url, pSize) # return pd.DataFrame\n",
    "\n",
    "# 02. 수집결과 원본 csv 파일로 저장\n",
    "df.to_csv(\"./data/\"+save_file_name+\"_source.csv\", index=False)"
   ]
  },
  {
   "cell_type": "markdown",
   "id": "545211d4-a594-4a9f-ac0d-98b83d67691c",
   "metadata": {},
   "source": [
    "#### 03. 수집결과 데이터 전처리"
   ]
  },
  {
   "cell_type": "code",
   "execution_count": 8,
   "id": "322abf87-2ceb-4c78-bcc5-5a6af7ec6804",
   "metadata": {},
   "outputs": [
    {
     "data": {
      "text/html": [
       "<div>\n",
       "<style scoped>\n",
       "    .dataframe tbody tr th:only-of-type {\n",
       "        vertical-align: middle;\n",
       "    }\n",
       "\n",
       "    .dataframe tbody tr th {\n",
       "        vertical-align: top;\n",
       "    }\n",
       "\n",
       "    .dataframe thead th {\n",
       "        text-align: right;\n",
       "    }\n",
       "</style>\n",
       "<table border=\"1\" class=\"dataframe\">\n",
       "  <thead>\n",
       "    <tr style=\"text-align: right;\">\n",
       "      <th></th>\n",
       "      <th>SUM_YY</th>\n",
       "      <th>SUM_MT</th>\n",
       "      <th>SIDO_NM</th>\n",
       "      <th>SCALE_DIV_NM</th>\n",
       "      <th>LOTOUT_PC</th>\n",
       "    </tr>\n",
       "  </thead>\n",
       "  <tbody>\n",
       "    <tr>\n",
       "      <th>0</th>\n",
       "      <td>2016</td>\n",
       "      <td>2</td>\n",
       "      <td>경기</td>\n",
       "      <td>전체</td>\n",
       "      <td>3219</td>\n",
       "    </tr>\n",
       "    <tr>\n",
       "      <th>1</th>\n",
       "      <td>2016</td>\n",
       "      <td>2</td>\n",
       "      <td>경기</td>\n",
       "      <td>전용면적 60㎡이하</td>\n",
       "      <td>3294</td>\n",
       "    </tr>\n",
       "  </tbody>\n",
       "</table>\n",
       "</div>"
      ],
      "text/plain": [
       "   SUM_YY  SUM_MT SIDO_NM SCALE_DIV_NM  LOTOUT_PC\n",
       "0    2016       2      경기           전체       3219\n",
       "1    2016       2      경기   전용면적 60㎡이하       3294"
      ]
     },
     "metadata": {},
     "output_type": "display_data"
    },
    {
     "data": {
      "text/html": [
       "<div>\n",
       "<style scoped>\n",
       "    .dataframe tbody tr th:only-of-type {\n",
       "        vertical-align: middle;\n",
       "    }\n",
       "\n",
       "    .dataframe tbody tr th {\n",
       "        vertical-align: top;\n",
       "    }\n",
       "\n",
       "    .dataframe thead th {\n",
       "        text-align: right;\n",
       "    }\n",
       "</style>\n",
       "<table border=\"1\" class=\"dataframe\">\n",
       "  <thead>\n",
       "    <tr style=\"text-align: right;\">\n",
       "      <th></th>\n",
       "      <th>SUM_YY</th>\n",
       "      <th>SUM_MT</th>\n",
       "      <th>SIDO_NM</th>\n",
       "      <th>SCALE_DIV_NM</th>\n",
       "      <th>LOTOUT_PC</th>\n",
       "    </tr>\n",
       "  </thead>\n",
       "  <tbody>\n",
       "    <tr>\n",
       "      <th>0</th>\n",
       "      <td>2016</td>\n",
       "      <td>2</td>\n",
       "      <td>경기</td>\n",
       "      <td>전체</td>\n",
       "      <td>3219</td>\n",
       "    </tr>\n",
       "    <tr>\n",
       "      <th>1</th>\n",
       "      <td>2016</td>\n",
       "      <td>2</td>\n",
       "      <td>경기</td>\n",
       "      <td>전용면적 60㎡이하</td>\n",
       "      <td>3294</td>\n",
       "    </tr>\n",
       "  </tbody>\n",
       "</table>\n",
       "</div>"
      ],
      "text/plain": [
       "   SUM_YY  SUM_MT SIDO_NM SCALE_DIV_NM  LOTOUT_PC\n",
       "0    2016       2      경기           전체       3219\n",
       "1    2016       2      경기   전용면적 60㎡이하       3294"
      ]
     },
     "metadata": {},
     "output_type": "display_data"
    }
   ],
   "source": [
    "# 3.1. 수집결과 원본 데이터\n",
    "df_src = pd.read_csv(\"./data/\"+save_file_name+\"_source.csv\", encoding='utf8')\n",
    "\n",
    "# 3.2. 수집결과 원본 상위 2개 데이터 조회\n",
    "display(df_src.head(2))\n",
    "\n",
    "# 3.3. 전처리: 값이 없는 것을 0으로 치환\n",
    "df = df_src.fillna(0)\n",
    "\n",
    "# 3.4. 전처리 결과 파일 저장\n",
    "df.to_csv(\"./data/\"+save_file_name+\"_result.csv\", index=False)\n",
    "display(df.head(2))"
   ]
  },
  {
   "cell_type": "markdown",
   "id": "d95cf615-4d8b-4510-b336-0eb99f98f128",
   "metadata": {},
   "source": [
    "#### 04. 최종 결과"
   ]
  },
  {
   "cell_type": "code",
   "execution_count": 9,
   "id": "faef861b-d1fc-4db7-87a6-71e9ee921ea0",
   "metadata": {},
   "outputs": [
    {
     "name": "stdout",
     "output_type": "stream",
     "text": [
      "API 데이터 구조\n"
     ]
    },
    {
     "data": {
      "text/html": [
       "<div>\n",
       "<style scoped>\n",
       "    .dataframe tbody tr th:only-of-type {\n",
       "        vertical-align: middle;\n",
       "    }\n",
       "\n",
       "    .dataframe tbody tr th {\n",
       "        vertical-align: top;\n",
       "    }\n",
       "\n",
       "    .dataframe thead th {\n",
       "        text-align: right;\n",
       "    }\n",
       "</style>\n",
       "<table border=\"1\" class=\"dataframe\">\n",
       "  <thead>\n",
       "    <tr style=\"text-align: right;\">\n",
       "      <th></th>\n",
       "      <th>컬럼_ID</th>\n",
       "      <th>컬럼_명</th>\n",
       "    </tr>\n",
       "  </thead>\n",
       "  <tbody>\n",
       "    <tr>\n",
       "      <th>0</th>\n",
       "      <td>SUM_YY</td>\n",
       "      <td>집계년도</td>\n",
       "    </tr>\n",
       "    <tr>\n",
       "      <th>1</th>\n",
       "      <td>SUM_MT</td>\n",
       "      <td>집계월</td>\n",
       "    </tr>\n",
       "    <tr>\n",
       "      <th>2</th>\n",
       "      <td>SIDO_NM</td>\n",
       "      <td>시도명</td>\n",
       "    </tr>\n",
       "    <tr>\n",
       "      <th>3</th>\n",
       "      <td>SCALE_DIV_NM</td>\n",
       "      <td>규모구분명</td>\n",
       "    </tr>\n",
       "    <tr>\n",
       "      <th>4</th>\n",
       "      <td>LOTOUT_PC</td>\n",
       "      <td>분양가격(천원/㎡)</td>\n",
       "    </tr>\n",
       "  </tbody>\n",
       "</table>\n",
       "</div>"
      ],
      "text/plain": [
       "          컬럼_ID        컬럼_명\n",
       "0        SUM_YY        집계년도\n",
       "1        SUM_MT         집계월\n",
       "2       SIDO_NM         시도명\n",
       "3  SCALE_DIV_NM       규모구분명\n",
       "4     LOTOUT_PC  분양가격(천원/㎡)"
      ]
     },
     "metadata": {},
     "output_type": "display_data"
    }
   ],
   "source": [
    "print(\"API 데이터 구조\")\n",
    "df = pd.read_csv(\"./data/\"+save_file_name+\"_schema.csv\", encoding='utf8')    # 데이터 구조\n",
    "display(df.head(len(df)))"
   ]
  },
  {
   "cell_type": "markdown",
   "id": "8b0ae45d-e324-4a31-a955-a977ac058d1f",
   "metadata": {},
   "source": [
    "#### 04.01. 경기도 공동주택 미분양 현황\n",
    "- 경기도 시군별 미분양 현황"
   ]
  },
  {
   "cell_type": "code",
   "execution_count": 12,
   "id": "966993a5-f267-445d-bc0b-f8f9481332df",
   "metadata": {},
   "outputs": [
    {
     "name": "stdout",
     "output_type": "stream",
     "text": [
      "#### 01. 경기도_신규_민간아파트_분양_가격_현황\n"
     ]
    },
    {
     "data": {
      "text/html": [
       "<div>\n",
       "<style scoped>\n",
       "    .dataframe tbody tr th:only-of-type {\n",
       "        vertical-align: middle;\n",
       "    }\n",
       "\n",
       "    .dataframe tbody tr th {\n",
       "        vertical-align: top;\n",
       "    }\n",
       "\n",
       "    .dataframe thead th {\n",
       "        text-align: right;\n",
       "    }\n",
       "</style>\n",
       "<table border=\"1\" class=\"dataframe\">\n",
       "  <thead>\n",
       "    <tr style=\"text-align: right;\">\n",
       "      <th></th>\n",
       "      <th></th>\n",
       "      <th>LOTOUT_PC</th>\n",
       "    </tr>\n",
       "    <tr>\n",
       "      <th>SUM_YY</th>\n",
       "      <th>SIDO_NM</th>\n",
       "      <th></th>\n",
       "    </tr>\n",
       "  </thead>\n",
       "  <tbody>\n",
       "    <tr>\n",
       "      <th>2015</th>\n",
       "      <th>경기</th>\n",
       "      <td>50277</td>\n",
       "    </tr>\n",
       "    <tr>\n",
       "      <th>2016</th>\n",
       "      <th>경기</th>\n",
       "      <td>212454</td>\n",
       "    </tr>\n",
       "    <tr>\n",
       "      <th>2017</th>\n",
       "      <th>경기</th>\n",
       "      <td>186258</td>\n",
       "    </tr>\n",
       "  </tbody>\n",
       "</table>\n",
       "</div>"
      ],
      "text/plain": [
       "                LOTOUT_PC\n",
       "SUM_YY SIDO_NM           \n",
       "2015   경기           50277\n",
       "2016   경기          212454\n",
       "2017   경기          186258"
      ]
     },
     "metadata": {},
     "output_type": "display_data"
    },
    {
     "name": "stdout",
     "output_type": "stream",
     "text": [
      "\n",
      "#### 02. 차트 출력\n"
     ]
    },
    {
     "data": {
      "text/plain": [
       "<AxesSubplot:title={'center':'경기도_신규_민간아파트_분양_가격_현황'}, xlabel='SUM_YY,SIDO_NM'>"
      ]
     },
     "execution_count": 12,
     "metadata": {},
     "output_type": "execute_result"
    },
    {
     "data": {
      "image/png": "[encoded data removed]",
      "text/plain": [
       "<Figure size 432x288 with 1 Axes>"
      ]
     },
     "metadata": {
      "needs_background": "light"
     },
     "output_type": "display_data"
    }
   ],
   "source": [
    "# 00. 전처리 된 데이터를 load\n",
    "df = pd.read_csv(\"./data/\"+save_file_name+\"_result.csv\", encoding='utf8')    # 데이터\n",
    "# 01. 불필요 컬럼 삭제\n",
    "df.drop(columns=['SUM_MT', 'SCALE_DIV_NM'], inplace=True)\n",
    "# 02.01. 월별 사용량\n",
    "print(\"#### 01. 경기도_신규_민간아파트_분양_가격_현황\")\n",
    "df = df.groupby(by=['SUM_YY', 'SIDO_NM']).sum()\n",
    "display(df)\n",
    "\n",
    "print(\"\\n#### 02. 차트 출력\")\n",
    "df.index.name = '시도'\n",
    "df.plot(kind='bar' # line, bar, barh, kde, density\n",
    "  , title=\"경기도_신규_민간아파트_분양_가격_현황\"\n",
    "  , grid=True\n",
    "  , legend=True\n",
    ")"
   ]
  },
  {
   "cell_type": "code",
   "execution_count": null,
   "id": "f0e41cf4-99ec-4cac-83bb-8f413442cbc2",
   "metadata": {},
   "outputs": [],
   "source": []
  }
 ],
 "metadata": {
  "kernelspec": {
   "display_name": "Python 3 (ipykernel)",
   "language": "python",
   "name": "python3"
  },
  "language_info": {
   "codemirror_mode": {
    "name": "ipython",
    "version": 3
   },
   "file_extension": ".py",
   "mimetype": "text/x-python",
   "name": "python",
   "nbconvert_exporter": "python",
   "pygments_lexer": "ipython3",
   "version": "3.9.7"
  }
 },
 "nbformat": 4,
 "nbformat_minor": 5
}
